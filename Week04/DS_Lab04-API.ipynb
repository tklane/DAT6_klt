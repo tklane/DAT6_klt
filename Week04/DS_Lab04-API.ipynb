{
 "metadata": {
  "celltoolbar": "Slideshow",
  "name": "",
  "signature": "sha256:8580787548cbf8ebe790fbb5a9d0cb3cf11afed9f0dbf3de9726f7849f276e16"
 },
 "nbformat": 3,
 "nbformat_minor": 0,
 "worksheets": [
  {
   "cells": [
    {
     "cell_type": "markdown",
     "metadata": {
      "slideshow": {
       "slide_type": "slide"
      }
     },
     "source": [
      "Lab\n",
      "===================\n",
      "Twitter & MongoDB\n",
      "-------------------\n",
      "Alessandro D. Gagliardi"
     ]
    },
    {
     "cell_type": "markdown",
     "metadata": {
      "slideshow": {
       "slide_type": "subslide"
      }
     },
     "source": [
      "Importing Libraries\n",
      "-------------------"
     ]
    },
    {
     "cell_type": "code",
     "collapsed": false,
     "input": [
      "# standard library:\n",
      "import os  \n",
      "\n",
      "from pprint import pprint\n",
      "\n",
      "# other modules:\n",
      "import matplotlib.pyplot as plt\n",
      "import pandas as pd\n",
      "import twitter\n",
      "import yaml\n",
      "\n",
      "from pymongo import MongoClient"
     ],
     "language": "python",
     "metadata": {
      "slideshow": {
       "slide_type": "-"
      }
     },
     "outputs": [],
     "prompt_number": 1
    },
    {
     "cell_type": "markdown",
     "metadata": {
      "slideshow": {
       "slide_type": "slide"
      }
     },
     "source": [
      "Twitter Trends\n",
      "=============="
     ]
    },
    {
     "cell_type": "heading",
     "level": 3,
     "metadata": {
      "slideshow": {
       "slide_type": "subslide"
      }
     },
     "source": [
      "Connect to Twitter:"
     ]
    },
    {
     "cell_type": "code",
     "collapsed": false,
     "input": [
      "credentials = yaml.load(open(os.path.expanduser('~/api_cred.yml')))\n",
      "\n",
      "auth = twitter.oauth.OAuth(credentials['ACCESS_TOKEN'], \n",
      "                           credentials['ACCESS_TOKEN_SECRET'],\n",
      "                           credentials['API_KEY'],\n",
      "                           credentials['API_SECRET'])\n",
      "\n",
      "twitter_api = twitter.Twitter(auth=auth)"
     ],
     "language": "python",
     "metadata": {
      "slideshow": {
       "slide_type": "-"
      }
     },
     "outputs": [],
     "prompt_number": 2
    },
    {
     "cell_type": "code",
     "collapsed": false,
     "input": [
      "# The Yahoo! Where On Earth ID for the entire world is 1.\n",
      "# See https://dev.twitter.com/docs/api/1.1/get/trends/place and\n",
      "# http://developer.yahoo.com/geo/geoplanet/\n",
      "\n",
      "WORLD_WOE_ID = 1\n",
      "US_WOE_ID = 23424977\n",
      "\n",
      "# Prefix ID with the underscore for query string parameterization.\n",
      "# Without the underscore, the twitter package appends the ID value\n",
      "# to the URL itself as a special case keyword argument.\n",
      "\n",
      "world_trends = twitter_api.trends.place(_id=WORLD_WOE_ID)\n",
      "us_trends = twitter_api.trends.place(_id=US_WOE_ID)\n",
      "\n",
      "pprint(world_trends)"
     ],
     "language": "python",
     "metadata": {
      "slideshow": {
       "slide_type": "slide"
      }
     },
     "outputs": [
      {
       "output_type": "stream",
       "stream": "stdout",
       "text": [
        "[{u'as_of': u'2014-04-29T03:48:00Z',\n",
        "  u'created_at': u'2014-04-29T03:42:45Z',\n",
        "  u'locations': [{u'name': u'Worldwide', u'woeid': 1}],\n",
        "  u'trends': [{u'name': u'#RuinAMovieQuote',\n",
        "               u'promoted_content': None,\n",
        "               u'query': u'%23RuinAMovieQuote',\n",
        "               u'url': u'http://twitter.com/search?q=%23RuinAMovieQuote'},\n",
        "              {u'name': u'#WeWereBornForThis',\n",
        "               u'promoted_content': None,\n",
        "               u'query': u'%23WeWereBornForThis',\n",
        "               u'url': u'http://twitter.com/search?q=%23WeWereBornForThis'},\n",
        "              {u'name': u'#VolvioMarcelo',\n",
        "               u'promoted_content': None,\n",
        "               u'query': u'%23VolvioMarcelo',\n",
        "               u'url': u'http://twitter.com/search?q=%23VolvioMarcelo'},\n",
        "              {u'name': u'#BuyOrdinaryOniTunes',\n",
        "               u'promoted_content': None,\n",
        "               u'query': u'%23BuyOrdinaryOniTunes',\n",
        "               u'url': u'http://twitter.com/search?q=%23BuyOrdinaryOniTunes'},\n",
        "              {u'name': u'#DWTSShirtOff',\n",
        "               u'promoted_content': None,\n",
        "               u'query': u'%23DWTSShirtOff',\n",
        "               u'url': u'http://twitter.com/search?q=%23DWTSShirtOff'},\n",
        "              {u'name': u'Kenzo Sayang Shani Indira',\n",
        "               u'promoted_content': None,\n",
        "               u'query': u'%22Kenzo+Sayang+Shani+Indira%22',\n",
        "               u'url': u'http://twitter.com/search?q=%22Kenzo+Sayang+Shani+Indira%22'},\n",
        "              {u'name': u'Timone Pumba and Scar',\n",
        "               u'promoted_content': None,\n",
        "               u'query': u'%22Timone+Pumba+and+Scar%22',\n",
        "               u'url': u'http://twitter.com/search?q=%22Timone+Pumba+and+Scar%22'},\n",
        "              {u'name': u'Zayn Is An Angel',\n",
        "               u'promoted_content': None,\n",
        "               u'query': u'%22Zayn+Is+An+Angel%22',\n",
        "               u'url': u'http://twitter.com/search?q=%22Zayn+Is+An+Angel%22'},\n",
        "              {u'name': u'LeBron vs the Bobcats',\n",
        "               u'promoted_content': None,\n",
        "               u'query': u'%22LeBron+vs+the+Bobcats%22',\n",
        "               u'url': u'http://twitter.com/search?q=%22LeBron+vs+the+Bobcats%22'},\n",
        "              {u'name': u'5TH CHEER ATHLETICS CHEETAHS',\n",
        "               u'promoted_content': None,\n",
        "               u'query': u'%225TH+CHEER+ATHLETICS+CHEETAHS%22',\n",
        "               u'url': u'http://twitter.com/search?q=%225TH+CHEER+ATHLETICS+CHEETAHS%22'}]}]\n"
       ]
      }
     ],
     "prompt_number": 3
    },
    {
     "cell_type": "code",
     "collapsed": false,
     "input": [
      "pprint(us_trends)"
     ],
     "language": "python",
     "metadata": {
      "slideshow": {
       "slide_type": "subslide"
      }
     },
     "outputs": [
      {
       "output_type": "stream",
       "stream": "stdout",
       "text": [
        "[{u'as_of': u'2014-04-29T03:48:00Z',\n",
        "  u'created_at': u'2014-04-29T03:42:45Z',\n",
        "  u'locations': [{u'name': u'United States', u'woeid': 23424977}],\n",
        "  u'trends': [{u'name': u'#RuinAMovieQuote',\n",
        "               u'promoted_content': None,\n",
        "               u'query': u'%23RuinAMovieQuote',\n",
        "               u'url': u'http://twitter.com/search?q=%23RuinAMovieQuote'},\n",
        "              {u'name': u'#BuyOrdinaryOniTunes',\n",
        "               u'promoted_content': None,\n",
        "               u'query': u'%23BuyOrdinaryOniTunes',\n",
        "               u'url': u'http://twitter.com/search?q=%23BuyOrdinaryOniTunes'},\n",
        "              {u'name': u'#DWTSShirtOff',\n",
        "               u'promoted_content': None,\n",
        "               u'query': u'%23DWTSShirtOff',\n",
        "               u'url': u'http://twitter.com/search?q=%23DWTSShirtOff'},\n",
        "              {u'name': u'#LifeofTy',\n",
        "               u'promoted_content': None,\n",
        "               u'query': u'%23LifeofTy',\n",
        "               u'url': u'http://twitter.com/search?q=%23LifeofTy'},\n",
        "              {u'name': u'#bbwlareunion',\n",
        "               u'promoted_content': None,\n",
        "               u'query': u'%23bbwlareunion',\n",
        "               u'url': u'http://twitter.com/search?q=%23bbwlareunion'},\n",
        "              {u'name': u'Timone Pumba and Scar',\n",
        "               u'promoted_content': None,\n",
        "               u'query': u'%22Timone+Pumba+and+Scar%22',\n",
        "               u'url': u'http://twitter.com/search?q=%22Timone+Pumba+and+Scar%22'},\n",
        "              {u'name': u'LeBron vs the Bobcats',\n",
        "               u'promoted_content': None,\n",
        "               u'query': u'%22LeBron+vs+the+Bobcats%22',\n",
        "               u'url': u'http://twitter.com/search?q=%22LeBron+vs+the+Bobcats%22'},\n",
        "              {u'name': u'5TH CHEER ATHLETICS CHEETAHS',\n",
        "               u'promoted_content': None,\n",
        "               u'query': u'%225TH+CHEER+ATHLETICS+CHEETAHS%22',\n",
        "               u'url': u'http://twitter.com/search?q=%225TH+CHEER+ATHLETICS+CHEETAHS%22'},\n",
        "              {u'name': u'Patrick Roy',\n",
        "               u'promoted_content': None,\n",
        "               u'query': u'%22Patrick+Roy%22',\n",
        "               u'url': u'http://twitter.com/search?q=%22Patrick+Roy%22'},\n",
        "              {u'name': u'Dejuan Blair',\n",
        "               u'promoted_content': None,\n",
        "               u'query': u'%22Dejuan+Blair%22',\n",
        "               u'url': u'http://twitter.com/search?q=%22Dejuan+Blair%22'}]}]\n"
       ]
      }
     ],
     "prompt_number": 4
    },
    {
     "cell_type": "heading",
     "level": 3,
     "metadata": {
      "slideshow": {
       "slide_type": "subslide"
      }
     },
     "source": [
      "Do any of these trends intersect?"
     ]
    },
    {
     "cell_type": "code",
     "collapsed": false,
     "input": [
      "world_trends_set = set([trend['name'] for trends in world_trends\n",
      "                        for trend in trends['trends']])\n",
      "\n",
      "us_trends_set = set([trend['name'] for trends in us_trends\n",
      "                     for trend in trends['trends']]) \n",
      "\n",
      "world_trends_set.intersection(us_trends_set)"
     ],
     "language": "python",
     "metadata": {
      "slideshow": {
       "slide_type": "fragment"
      }
     },
     "outputs": [
      {
       "metadata": {},
       "output_type": "pyout",
       "prompt_number": 5,
       "text": [
        "{u'#BuyOrdinaryOniTunes',\n",
        " u'#DWTSShirtOff',\n",
        " u'#RuinAMovieQuote',\n",
        " u'5TH CHEER ATHLETICS CHEETAHS',\n",
        " u'LeBron vs the Bobcats',\n",
        " u'Timone Pumba and Scar'}"
       ]
      }
     ],
     "prompt_number": 5
    },
    {
     "cell_type": "markdown",
     "metadata": {
      "slideshow": {
       "slide_type": "slide"
      }
     },
     "source": [
      "Twitter Statuses\n",
      "================"
     ]
    },
    {
     "cell_type": "code",
     "collapsed": false,
     "input": [
      "q = world_trends[0]['trends'][0]['name']\n",
      "\n",
      "count = 100\n",
      "\n",
      "# See https://dev.twitter.com/docs/api/1.1/get/search/tweets\n",
      "\n",
      "search_results = twitter_api.search.tweets(q=q, count=count)\n",
      "\n",
      "statuses = search_results['statuses']"
     ],
     "language": "python",
     "metadata": {
      "slideshow": {
       "slide_type": "fragment"
      }
     },
     "outputs": [],
     "prompt_number": 6
    },
    {
     "cell_type": "code",
     "collapsed": false,
     "input": [
      "len(statuses)"
     ],
     "language": "python",
     "metadata": {
      "slideshow": {
       "slide_type": "fragment"
      }
     },
     "outputs": [
      {
       "metadata": {},
       "output_type": "pyout",
       "prompt_number": 7,
       "text": [
        "99"
       ]
      }
     ],
     "prompt_number": 7
    },
    {
     "cell_type": "heading",
     "level": 3,
     "metadata": {
      "slideshow": {
       "slide_type": "subslide"
      }
     },
     "source": [
      "More?"
     ]
    },
    {
     "cell_type": "code",
     "collapsed": false,
     "input": [
      "search_results['search_metadata'].get('next_results')"
     ],
     "language": "python",
     "metadata": {
      "slideshow": {
       "slide_type": "fragment"
      }
     },
     "outputs": [],
     "prompt_number": 8
    },
    {
     "cell_type": "code",
     "collapsed": false,
     "input": [
      "if 'next_results' in search_results['search_metadata']:\n",
      "    next_results = search_results['search_metadata']['next_results']\n",
      "    kwargs = dict([ kv.split('=') for kv in next_results[1:].split(\"&\") ])\n",
      "    search_results = twitter_api.search.tweets(**kwargs)\n",
      "    statuses += search_results['statuses']\n",
      "\n",
      "len(statuses)"
     ],
     "language": "python",
     "metadata": {
      "slideshow": {
       "slide_type": "fragment"
      }
     },
     "outputs": [
      {
       "metadata": {},
       "output_type": "pyout",
       "prompt_number": 9,
       "text": [
        "99"
       ]
      }
     ],
     "prompt_number": 9
    },
    {
     "cell_type": "markdown",
     "metadata": {
      "slideshow": {
       "slide_type": "slide"
      }
     },
     "source": [
      "Mongo\n",
      "====="
     ]
    },
    {
     "cell_type": "markdown",
     "metadata": {
      "slideshow": {
       "slide_type": "subslide"
      }
     },
     "source": [
      "from the command line:\n",
      "```bash\n",
      "$ mkdir -p data/db\n",
      "$ mongod --dbpath data/db\n",
      "```"
     ]
    },
    {
     "cell_type": "heading",
     "level": 3,
     "metadata": {
      "slideshow": {
       "slide_type": "slide"
      }
     },
     "source": [
      "Connect to our Mongo database management server (DBMS):"
     ]
    },
    {
     "cell_type": "code",
     "collapsed": false,
     "input": [
      "c = MongoClient()"
     ],
     "language": "python",
     "metadata": {
      "slideshow": {
       "slide_type": "fragment"
      }
     },
     "outputs": [],
     "prompt_number": 3
    },
    {
     "cell_type": "heading",
     "level": 4,
     "metadata": {
      "slideshow": {
       "slide_type": "fragment"
      }
     },
     "source": [
      "Create a database called `twitter`:"
     ]
    },
    {
     "cell_type": "code",
     "collapsed": false,
     "input": [
      "db = c.twitter"
     ],
     "language": "python",
     "metadata": {
      "slideshow": {
       "slide_type": "fragment"
      }
     },
     "outputs": [],
     "prompt_number": 4
    },
    {
     "cell_type": "markdown",
     "metadata": {
      "slideshow": {
       "slide_type": "notes"
      }
     },
     "source": [
      "##### Yes, it's that easy."
     ]
    },
    {
     "cell_type": "heading",
     "level": 4,
     "metadata": {
      "slideshow": {
       "slide_type": "slide"
      }
     },
     "source": [
      "Insert the results we pulled from Twitter and store them as a document in a collection named `tweets`:"
     ]
    },
    {
     "cell_type": "code",
     "collapsed": false,
     "input": [
      "statuses_ids = db.tweets.insert(statuses)\n",
      "statuses_ids[:5]"
     ],
     "language": "python",
     "metadata": {
      "slideshow": {
       "slide_type": "fragment"
      }
     },
     "outputs": [
      {
       "metadata": {},
       "output_type": "pyout",
       "prompt_number": 33,
       "text": [
        "[ObjectId('535f24e548d4900cccb418be'),\n",
        " ObjectId('535f24e548d4900cccb418bf'),\n",
        " ObjectId('535f24e548d4900cccb418c0'),\n",
        " ObjectId('535f24e548d4900cccb418c1'),\n",
        " ObjectId('535f24e548d4900cccb418c2')]"
       ]
      }
     ],
     "prompt_number": 33
    },
    {
     "cell_type": "heading",
     "level": 3,
     "metadata": {
      "slideshow": {
       "slide_type": "slide"
      }
     },
     "source": [
      "`ObjectId`s"
     ]
    },
    {
     "cell_type": "markdown",
     "metadata": {
      "slideshow": {
       "slide_type": "fragment"
      }
     },
     "source": [
      "**ObjectId** is a 12-byte **BSON** type, constructed using:\n",
      "\n",
      "-    a 4-byte value representing the seconds since the Unix epoch,\n",
      "-    a 3-byte machine identifier,\n",
      "-    a 2-byte process id, and\n",
      "-    a 3-byte counter, starting with a random value.\n",
      "\n",
      "In MongoDB, documents stored in a collection require a unique `_id` field that acts as a **primary key**. Because ObjectIds are small, most likely unique, and fast to generate, MongoDB uses ObjectIds as the default value for the `_id` field if the `_id` field is not specified. \n",
      "\n",
      "<!--small><i>from http://docs.mongodb.org/manual/reference/object-id/</i></small-->"
     ]
    },
    {
     "cell_type": "markdown",
     "metadata": {
      "slideshow": {
       "slide_type": "notes"
      }
     },
     "source": [
      "Using ObjectIds for the `_id` field provides the following additional benefits:\n",
      "\n",
      "- you can access the insertion time of the ObjectId, using the `.generation_time` property in pymongo. \n",
      "- sorting on an `_id` field that stores ObjectId values is roughly equivalent to sorting by insertion time."
     ]
    },
    {
     "cell_type": "heading",
     "level": 3,
     "metadata": {
      "slideshow": {
       "slide_type": "slide"
      }
     },
     "source": [
      "Test the contents of our database:"
     ]
    },
    {
     "cell_type": "code",
     "collapsed": false,
     "input": [
      "c.database_names()"
     ],
     "language": "python",
     "metadata": {
      "slideshow": {
       "slide_type": "fragment"
      }
     },
     "outputs": [
      {
       "metadata": {},
       "output_type": "pyout",
       "prompt_number": 34,
       "text": [
        "[u'local', u'twitter', u'admin']"
       ]
      }
     ],
     "prompt_number": 34
    },
    {
     "cell_type": "code",
     "collapsed": false,
     "input": [
      "db = c.twitter\n",
      "db.collection_names()"
     ],
     "language": "python",
     "metadata": {
      "slideshow": {
       "slide_type": "fragment"
      }
     },
     "outputs": [
      {
       "metadata": {},
       "output_type": "pyout",
       "prompt_number": 35,
       "text": [
        "[u'tweets', u'system.indexes', u'us', u'ca']"
       ]
      }
     ],
     "prompt_number": 35
    },
    {
     "cell_type": "code",
     "collapsed": false,
     "input": [
      "db.tweets.find_one()"
     ],
     "language": "python",
     "metadata": {
      "slideshow": {
       "slide_type": "fragment"
      }
     },
     "outputs": [
      {
       "metadata": {},
       "output_type": "pyout",
       "prompt_number": 19,
       "text": [
        "{u'_id': ObjectId('535ede5648d49008b35b80d5'),\n",
        " u'contributors': None,\n",
        " u'coordinates': None,\n",
        " u'created_at': u'Mon Apr 28 23:01:31 +0000 2014',\n",
        " u'entities': {u'hashtags': [{u'indices': [36, 50],\n",
        "    u'text': u'DinahtoMyJane'}],\n",
        "  u'symbols': [],\n",
        "  u'urls': [],\n",
        "  u'user_mentions': [{u'id': 259435698,\n",
        "    u'id_str': u'259435698',\n",
        "    u'indices': [0, 12],\n",
        "    u'name': u'\\u2655DinahJane',\n",
        "    u'screen_name': u'dinahjane97'}]},\n",
        " u'favorite_count': 0,\n",
        " u'favorited': False,\n",
        " u'geo': None,\n",
        " u'id': 460916750725697536L,\n",
        " u'id_str': u'460916750725697536',\n",
        " u'in_reply_to_screen_name': u'dinahjane97',\n",
        " u'in_reply_to_status_id': 460914124600274944L,\n",
        " u'in_reply_to_status_id_str': u'460914124600274944',\n",
        " u'in_reply_to_user_id': 259435698,\n",
        " u'in_reply_to_user_id_str': u'259435698',\n",
        " u'lang': u'in',\n",
        " u'metadata': {u'iso_language_code': u'in', u'result_type': u'recent'},\n",
        " u'place': None,\n",
        " u'retweet_count': 0,\n",
        " u'retweeted': False,\n",
        " u'source': u'web',\n",
        " u'text': u'@dinahjane97 FOLLOW ME, LOVE U )-:  #DinahtoMyJane wahsj',\n",
        " u'truncated': False,\n",
        " u'user': {u'contributors_enabled': False,\n",
        "  u'created_at': u'Sun May 05 02:56:23 +0000 2013',\n",
        "  u'default_profile': False,\n",
        "  u'default_profile_image': False,\n",
        "  u'description': u'',\n",
        "  u'entities': {u'description': {u'urls': []}},\n",
        "  u'favourites_count': 955,\n",
        "  u'follow_request_sent': False,\n",
        "  u'followers_count': 1057,\n",
        "  u'following': False,\n",
        "  u'friends_count': 886,\n",
        "  u'geo_enabled': True,\n",
        "  u'id': 1403949037,\n",
        "  u'id_str': u'1403949037',\n",
        "  u'is_translation_enabled': False,\n",
        "  u'is_translator': False,\n",
        "  u'lang': u'pt',\n",
        "  u'listed_count': 2,\n",
        "  u'location': u'',\n",
        "  u'name': u'd\\xe9borah',\n",
        "  u'notifications': False,\n",
        "  u'profile_background_color': u'FFFFFF',\n",
        "  u'profile_background_image_url': u'http://pbs.twimg.com/profile_background_images/458712085690466304/jY--t1ir.jpeg',\n",
        "  u'profile_background_image_url_https': u'https://pbs.twimg.com/profile_background_images/458712085690466304/jY--t1ir.jpeg',\n",
        "  u'profile_background_tile': True,\n",
        "  u'profile_banner_url': u'https://pbs.twimg.com/profile_banners/1403949037/1398200239',\n",
        "  u'profile_image_url': u'http://pbs.twimg.com/profile_images/458711266819731456/rIBOeF6E_normal.jpeg',\n",
        "  u'profile_image_url_https': u'https://pbs.twimg.com/profile_images/458711266819731456/rIBOeF6E_normal.jpeg',\n",
        "  u'profile_link_color': u'000000',\n",
        "  u'profile_sidebar_border_color': u'FFFFFF',\n",
        "  u'profile_sidebar_fill_color': u'DDEEF6',\n",
        "  u'profile_text_color': u'333333',\n",
        "  u'profile_use_background_image': True,\n",
        "  u'protected': False,\n",
        "  u'screen_name': u'lylasdrug',\n",
        "  u'statuses_count': 25649,\n",
        "  u'time_zone': u'Brasilia',\n",
        "  u'url': None,\n",
        "  u'utc_offset': -10800,\n",
        "  u'verified': False}}"
       ]
      }
     ],
     "prompt_number": 19
    },
    {
     "cell_type": "markdown",
     "metadata": {
      "slideshow": {
       "slide_type": "notes"
      }
     },
     "source": [
      "Notice the `_id` included in the document along with the values we already saw before."
     ]
    },
    {
     "cell_type": "markdown",
     "metadata": {
      "slideshow": {
       "slide_type": "slide"
      }
     },
     "source": [
      "Now that we have our data in MongoDB, we can use some of it's search functionality. For example:"
     ]
    },
    {
     "cell_type": "code",
     "collapsed": false,
     "input": [
      "popular_tweets = db.tweets.find({'retweet_count': {\"$gte\": 3}})\n",
      "popular_tweets.count()"
     ],
     "language": "python",
     "metadata": {
      "slideshow": {
       "slide_type": "fragment"
      }
     },
     "outputs": [
      {
       "metadata": {},
       "output_type": "pyout",
       "prompt_number": 20,
       "text": [
        "3"
       ]
      }
     ],
     "prompt_number": 20
    },
    {
     "cell_type": "markdown",
     "metadata": {
      "slideshow": {
       "slide_type": "slide"
      }
     },
     "source": [
      "Making Sense with Pandas\n",
      "========================"
     ]
    },
    {
     "cell_type": "code",
     "collapsed": false,
     "input": [
      "pd.DataFrame(list(db.tweets.find(fields=['created_at', 'retweet_count', 'favorite_count'])))"
     ],
     "language": "python",
     "metadata": {
      "slideshow": {
       "slide_type": "slide"
      }
     },
     "outputs": [
      {
       "html": [
        "<div style=\"max-height:1000px;max-width:1500px;overflow:auto;\">\n",
        "<table border=\"1\" class=\"dataframe\">\n",
        "  <thead>\n",
        "    <tr style=\"text-align: right;\">\n",
        "      <th></th>\n",
        "      <th>_id</th>\n",
        "      <th>created_at</th>\n",
        "      <th>favorite_count</th>\n",
        "      <th>retweet_count</th>\n",
        "    </tr>\n",
        "  </thead>\n",
        "  <tbody>\n",
        "    <tr>\n",
        "      <th>0 </th>\n",
        "      <td> 535ede5648d49008b35b80d5</td>\n",
        "      <td> Mon Apr 28 23:01:31 +0000 2014</td>\n",
        "      <td> 0</td>\n",
        "      <td>    0</td>\n",
        "    </tr>\n",
        "    <tr>\n",
        "      <th>1 </th>\n",
        "      <td> 535ede5648d49008b35b80d6</td>\n",
        "      <td> Mon Apr 28 23:01:31 +0000 2014</td>\n",
        "      <td> 0</td>\n",
        "      <td>    0</td>\n",
        "    </tr>\n",
        "    <tr>\n",
        "      <th>2 </th>\n",
        "      <td> 535ede5648d49008b35b80d7</td>\n",
        "      <td> Mon Apr 28 23:01:31 +0000 2014</td>\n",
        "      <td> 0</td>\n",
        "      <td>    0</td>\n",
        "    </tr>\n",
        "    <tr>\n",
        "      <th>3 </th>\n",
        "      <td> 535ede5648d49008b35b80d8</td>\n",
        "      <td> Mon Apr 28 23:01:31 +0000 2014</td>\n",
        "      <td> 0</td>\n",
        "      <td>    0</td>\n",
        "    </tr>\n",
        "    <tr>\n",
        "      <th>4 </th>\n",
        "      <td> 535ede5648d49008b35b80d9</td>\n",
        "      <td> Mon Apr 28 23:01:31 +0000 2014</td>\n",
        "      <td> 0</td>\n",
        "      <td>    0</td>\n",
        "    </tr>\n",
        "    <tr>\n",
        "      <th>5 </th>\n",
        "      <td> 535ede5648d49008b35b80da</td>\n",
        "      <td> Mon Apr 28 23:01:31 +0000 2014</td>\n",
        "      <td> 0</td>\n",
        "      <td>    0</td>\n",
        "    </tr>\n",
        "    <tr>\n",
        "      <th>6 </th>\n",
        "      <td> 535ede5648d49008b35b80db</td>\n",
        "      <td> Mon Apr 28 23:01:31 +0000 2014</td>\n",
        "      <td> 0</td>\n",
        "      <td>    0</td>\n",
        "    </tr>\n",
        "    <tr>\n",
        "      <th>7 </th>\n",
        "      <td> 535ede5648d49008b35b80dc</td>\n",
        "      <td> Mon Apr 28 23:01:31 +0000 2014</td>\n",
        "      <td> 0</td>\n",
        "      <td>    0</td>\n",
        "    </tr>\n",
        "    <tr>\n",
        "      <th>8 </th>\n",
        "      <td> 535ede5648d49008b35b80dd</td>\n",
        "      <td> Mon Apr 28 23:01:31 +0000 2014</td>\n",
        "      <td> 0</td>\n",
        "      <td>    0</td>\n",
        "    </tr>\n",
        "    <tr>\n",
        "      <th>9 </th>\n",
        "      <td> 535ede5648d49008b35b80de</td>\n",
        "      <td> Mon Apr 28 23:01:31 +0000 2014</td>\n",
        "      <td> 0</td>\n",
        "      <td>    0</td>\n",
        "    </tr>\n",
        "    <tr>\n",
        "      <th>10</th>\n",
        "      <td> 535ede5648d49008b35b80df</td>\n",
        "      <td> Mon Apr 28 23:01:31 +0000 2014</td>\n",
        "      <td> 0</td>\n",
        "      <td>    0</td>\n",
        "    </tr>\n",
        "    <tr>\n",
        "      <th>11</th>\n",
        "      <td> 535ede5648d49008b35b80e0</td>\n",
        "      <td> Mon Apr 28 23:01:31 +0000 2014</td>\n",
        "      <td> 0</td>\n",
        "      <td>    2</td>\n",
        "    </tr>\n",
        "    <tr>\n",
        "      <th>12</th>\n",
        "      <td> 535ede5648d49008b35b80e1</td>\n",
        "      <td> Mon Apr 28 23:01:31 +0000 2014</td>\n",
        "      <td> 0</td>\n",
        "      <td>    0</td>\n",
        "    </tr>\n",
        "    <tr>\n",
        "      <th>13</th>\n",
        "      <td> 535ede5648d49008b35b80e2</td>\n",
        "      <td> Mon Apr 28 23:01:31 +0000 2014</td>\n",
        "      <td> 0</td>\n",
        "      <td>    0</td>\n",
        "    </tr>\n",
        "    <tr>\n",
        "      <th>14</th>\n",
        "      <td> 535ede5648d49008b35b80e3</td>\n",
        "      <td> Mon Apr 28 23:01:31 +0000 2014</td>\n",
        "      <td> 0</td>\n",
        "      <td>    0</td>\n",
        "    </tr>\n",
        "    <tr>\n",
        "      <th>15</th>\n",
        "      <td> 535ede5648d49008b35b80e4</td>\n",
        "      <td> Mon Apr 28 23:01:31 +0000 2014</td>\n",
        "      <td> 0</td>\n",
        "      <td>    0</td>\n",
        "    </tr>\n",
        "    <tr>\n",
        "      <th>16</th>\n",
        "      <td> 535ede5648d49008b35b80e5</td>\n",
        "      <td> Mon Apr 28 23:01:31 +0000 2014</td>\n",
        "      <td> 0</td>\n",
        "      <td>    0</td>\n",
        "    </tr>\n",
        "    <tr>\n",
        "      <th>17</th>\n",
        "      <td> 535ede5648d49008b35b80e6</td>\n",
        "      <td> Mon Apr 28 23:01:31 +0000 2014</td>\n",
        "      <td> 0</td>\n",
        "      <td>    0</td>\n",
        "    </tr>\n",
        "    <tr>\n",
        "      <th>18</th>\n",
        "      <td> 535ede5648d49008b35b80e7</td>\n",
        "      <td> Mon Apr 28 23:01:31 +0000 2014</td>\n",
        "      <td> 0</td>\n",
        "      <td>    0</td>\n",
        "    </tr>\n",
        "    <tr>\n",
        "      <th>19</th>\n",
        "      <td> 535ede5648d49008b35b80e8</td>\n",
        "      <td> Mon Apr 28 23:01:31 +0000 2014</td>\n",
        "      <td> 0</td>\n",
        "      <td>    0</td>\n",
        "    </tr>\n",
        "    <tr>\n",
        "      <th>20</th>\n",
        "      <td> 535ede5648d49008b35b80e9</td>\n",
        "      <td> Mon Apr 28 23:01:31 +0000 2014</td>\n",
        "      <td> 0</td>\n",
        "      <td>    0</td>\n",
        "    </tr>\n",
        "    <tr>\n",
        "      <th>21</th>\n",
        "      <td> 535ede5648d49008b35b80ea</td>\n",
        "      <td> Mon Apr 28 23:01:31 +0000 2014</td>\n",
        "      <td> 0</td>\n",
        "      <td>    1</td>\n",
        "    </tr>\n",
        "    <tr>\n",
        "      <th>22</th>\n",
        "      <td> 535ede5648d49008b35b80eb</td>\n",
        "      <td> Mon Apr 28 23:01:31 +0000 2014</td>\n",
        "      <td> 0</td>\n",
        "      <td>    0</td>\n",
        "    </tr>\n",
        "    <tr>\n",
        "      <th>23</th>\n",
        "      <td> 535ede5648d49008b35b80ec</td>\n",
        "      <td> Mon Apr 28 23:01:31 +0000 2014</td>\n",
        "      <td> 0</td>\n",
        "      <td>    0</td>\n",
        "    </tr>\n",
        "    <tr>\n",
        "      <th>24</th>\n",
        "      <td> 535ede5648d49008b35b80ed</td>\n",
        "      <td> Mon Apr 28 23:01:31 +0000 2014</td>\n",
        "      <td> 0</td>\n",
        "      <td>    0</td>\n",
        "    </tr>\n",
        "    <tr>\n",
        "      <th>25</th>\n",
        "      <td> 535ede5648d49008b35b80ee</td>\n",
        "      <td> Mon Apr 28 23:01:31 +0000 2014</td>\n",
        "      <td> 0</td>\n",
        "      <td>    0</td>\n",
        "    </tr>\n",
        "    <tr>\n",
        "      <th>26</th>\n",
        "      <td> 535ede5648d49008b35b80ef</td>\n",
        "      <td> Mon Apr 28 23:01:31 +0000 2014</td>\n",
        "      <td> 0</td>\n",
        "      <td>    0</td>\n",
        "    </tr>\n",
        "    <tr>\n",
        "      <th>27</th>\n",
        "      <td> 535ede5648d49008b35b80f0</td>\n",
        "      <td> Mon Apr 28 23:01:31 +0000 2014</td>\n",
        "      <td> 0</td>\n",
        "      <td>    0</td>\n",
        "    </tr>\n",
        "    <tr>\n",
        "      <th>28</th>\n",
        "      <td> 535ede5648d49008b35b80f1</td>\n",
        "      <td> Mon Apr 28 23:01:31 +0000 2014</td>\n",
        "      <td> 0</td>\n",
        "      <td>    0</td>\n",
        "    </tr>\n",
        "    <tr>\n",
        "      <th>29</th>\n",
        "      <td> 535ede5648d49008b35b80f2</td>\n",
        "      <td> Mon Apr 28 23:01:31 +0000 2014</td>\n",
        "      <td> 0</td>\n",
        "      <td>    0</td>\n",
        "    </tr>\n",
        "    <tr>\n",
        "      <th>30</th>\n",
        "      <td> 535ede5648d49008b35b80f3</td>\n",
        "      <td> Mon Apr 28 23:01:31 +0000 2014</td>\n",
        "      <td> 0</td>\n",
        "      <td>    0</td>\n",
        "    </tr>\n",
        "    <tr>\n",
        "      <th>31</th>\n",
        "      <td> 535ede5648d49008b35b80f4</td>\n",
        "      <td> Mon Apr 28 23:01:31 +0000 2014</td>\n",
        "      <td> 0</td>\n",
        "      <td>    0</td>\n",
        "    </tr>\n",
        "    <tr>\n",
        "      <th>32</th>\n",
        "      <td> 535ede5648d49008b35b80f5</td>\n",
        "      <td> Mon Apr 28 23:01:31 +0000 2014</td>\n",
        "      <td> 0</td>\n",
        "      <td>    0</td>\n",
        "    </tr>\n",
        "    <tr>\n",
        "      <th>33</th>\n",
        "      <td> 535ede5648d49008b35b80f6</td>\n",
        "      <td> Mon Apr 28 23:01:31 +0000 2014</td>\n",
        "      <td> 0</td>\n",
        "      <td>    0</td>\n",
        "    </tr>\n",
        "    <tr>\n",
        "      <th>34</th>\n",
        "      <td> 535ede5648d49008b35b80f7</td>\n",
        "      <td> Mon Apr 28 23:01:31 +0000 2014</td>\n",
        "      <td> 0</td>\n",
        "      <td>    0</td>\n",
        "    </tr>\n",
        "    <tr>\n",
        "      <th>35</th>\n",
        "      <td> 535ede5648d49008b35b80f8</td>\n",
        "      <td> Mon Apr 28 23:01:31 +0000 2014</td>\n",
        "      <td> 0</td>\n",
        "      <td>    0</td>\n",
        "    </tr>\n",
        "    <tr>\n",
        "      <th>36</th>\n",
        "      <td> 535ede5648d49008b35b80f9</td>\n",
        "      <td> Mon Apr 28 23:01:31 +0000 2014</td>\n",
        "      <td> 0</td>\n",
        "      <td>    0</td>\n",
        "    </tr>\n",
        "    <tr>\n",
        "      <th>37</th>\n",
        "      <td> 535ede5648d49008b35b80fa</td>\n",
        "      <td> Mon Apr 28 23:01:31 +0000 2014</td>\n",
        "      <td> 0</td>\n",
        "      <td>    0</td>\n",
        "    </tr>\n",
        "    <tr>\n",
        "      <th>38</th>\n",
        "      <td> 535ede5648d49008b35b80fb</td>\n",
        "      <td> Mon Apr 28 23:01:31 +0000 2014</td>\n",
        "      <td> 0</td>\n",
        "      <td>    0</td>\n",
        "    </tr>\n",
        "    <tr>\n",
        "      <th>39</th>\n",
        "      <td> 535ede5648d49008b35b80fc</td>\n",
        "      <td> Mon Apr 28 23:01:31 +0000 2014</td>\n",
        "      <td> 0</td>\n",
        "      <td>    1</td>\n",
        "    </tr>\n",
        "    <tr>\n",
        "      <th>40</th>\n",
        "      <td> 535ede5648d49008b35b80fd</td>\n",
        "      <td> Mon Apr 28 23:01:31 +0000 2014</td>\n",
        "      <td> 0</td>\n",
        "      <td>    0</td>\n",
        "    </tr>\n",
        "    <tr>\n",
        "      <th>41</th>\n",
        "      <td> 535ede5648d49008b35b80fe</td>\n",
        "      <td> Mon Apr 28 23:01:31 +0000 2014</td>\n",
        "      <td> 0</td>\n",
        "      <td>    0</td>\n",
        "    </tr>\n",
        "    <tr>\n",
        "      <th>42</th>\n",
        "      <td> 535ede5648d49008b35b80ff</td>\n",
        "      <td> Mon Apr 28 23:01:31 +0000 2014</td>\n",
        "      <td> 0</td>\n",
        "      <td> 5891</td>\n",
        "    </tr>\n",
        "    <tr>\n",
        "      <th>43</th>\n",
        "      <td> 535ede5648d49008b35b8100</td>\n",
        "      <td> Mon Apr 28 23:01:31 +0000 2014</td>\n",
        "      <td> 0</td>\n",
        "      <td> 5891</td>\n",
        "    </tr>\n",
        "    <tr>\n",
        "      <th>44</th>\n",
        "      <td> 535ede5648d49008b35b8101</td>\n",
        "      <td> Mon Apr 28 23:01:31 +0000 2014</td>\n",
        "      <td> 0</td>\n",
        "      <td>    1</td>\n",
        "    </tr>\n",
        "    <tr>\n",
        "      <th>45</th>\n",
        "      <td> 535ede5648d49008b35b8102</td>\n",
        "      <td> Mon Apr 28 23:01:31 +0000 2014</td>\n",
        "      <td> 0</td>\n",
        "      <td>    0</td>\n",
        "    </tr>\n",
        "    <tr>\n",
        "      <th>46</th>\n",
        "      <td> 535ede5648d49008b35b8103</td>\n",
        "      <td> Mon Apr 28 23:01:31 +0000 2014</td>\n",
        "      <td> 0</td>\n",
        "      <td>    0</td>\n",
        "    </tr>\n",
        "    <tr>\n",
        "      <th>47</th>\n",
        "      <td> 535ede5648d49008b35b8104</td>\n",
        "      <td> Mon Apr 28 23:01:31 +0000 2014</td>\n",
        "      <td> 0</td>\n",
        "      <td>    0</td>\n",
        "    </tr>\n",
        "    <tr>\n",
        "      <th>48</th>\n",
        "      <td> 535ede5648d49008b35b8105</td>\n",
        "      <td> Mon Apr 28 23:01:31 +0000 2014</td>\n",
        "      <td> 0</td>\n",
        "      <td>    0</td>\n",
        "    </tr>\n",
        "    <tr>\n",
        "      <th>49</th>\n",
        "      <td> 535ede5648d49008b35b8106</td>\n",
        "      <td> Mon Apr 28 23:01:31 +0000 2014</td>\n",
        "      <td> 0</td>\n",
        "      <td>    0</td>\n",
        "    </tr>\n",
        "    <tr>\n",
        "      <th>50</th>\n",
        "      <td> 535ede5648d49008b35b8107</td>\n",
        "      <td> Mon Apr 28 23:01:31 +0000 2014</td>\n",
        "      <td> 0</td>\n",
        "      <td>    0</td>\n",
        "    </tr>\n",
        "    <tr>\n",
        "      <th>51</th>\n",
        "      <td> 535ede5648d49008b35b8108</td>\n",
        "      <td> Mon Apr 28 23:01:31 +0000 2014</td>\n",
        "      <td> 0</td>\n",
        "      <td>    0</td>\n",
        "    </tr>\n",
        "    <tr>\n",
        "      <th>52</th>\n",
        "      <td> 535ede5648d49008b35b8109</td>\n",
        "      <td> Mon Apr 28 23:01:31 +0000 2014</td>\n",
        "      <td> 0</td>\n",
        "      <td>    0</td>\n",
        "    </tr>\n",
        "    <tr>\n",
        "      <th>53</th>\n",
        "      <td> 535ede5648d49008b35b810a</td>\n",
        "      <td> Mon Apr 28 23:01:31 +0000 2014</td>\n",
        "      <td> 0</td>\n",
        "      <td>    1</td>\n",
        "    </tr>\n",
        "    <tr>\n",
        "      <th>54</th>\n",
        "      <td> 535ede5648d49008b35b810b</td>\n",
        "      <td> Mon Apr 28 23:01:31 +0000 2014</td>\n",
        "      <td> 0</td>\n",
        "      <td>    0</td>\n",
        "    </tr>\n",
        "    <tr>\n",
        "      <th>55</th>\n",
        "      <td> 535ede5648d49008b35b810c</td>\n",
        "      <td> Mon Apr 28 23:01:31 +0000 2014</td>\n",
        "      <td> 0</td>\n",
        "      <td>    1</td>\n",
        "    </tr>\n",
        "    <tr>\n",
        "      <th>56</th>\n",
        "      <td> 535ede5648d49008b35b810d</td>\n",
        "      <td> Mon Apr 28 23:01:31 +0000 2014</td>\n",
        "      <td> 0</td>\n",
        "      <td>    0</td>\n",
        "    </tr>\n",
        "    <tr>\n",
        "      <th>57</th>\n",
        "      <td> 535ede5648d49008b35b810e</td>\n",
        "      <td> Mon Apr 28 23:01:31 +0000 2014</td>\n",
        "      <td> 0</td>\n",
        "      <td>    0</td>\n",
        "    </tr>\n",
        "    <tr>\n",
        "      <th>58</th>\n",
        "      <td> 535ede5648d49008b35b810f</td>\n",
        "      <td> Mon Apr 28 23:01:31 +0000 2014</td>\n",
        "      <td> 0</td>\n",
        "      <td>    0</td>\n",
        "    </tr>\n",
        "    <tr>\n",
        "      <th>59</th>\n",
        "      <td> 535ede5648d49008b35b8110</td>\n",
        "      <td> Mon Apr 28 23:01:31 +0000 2014</td>\n",
        "      <td> 0</td>\n",
        "      <td>    0</td>\n",
        "    </tr>\n",
        "    <tr>\n",
        "      <th></th>\n",
        "      <td>...</td>\n",
        "      <td>...</td>\n",
        "      <td>...</td>\n",
        "      <td>...</td>\n",
        "    </tr>\n",
        "  </tbody>\n",
        "</table>\n",
        "<p>95 rows \u00d7 4 columns</p>\n",
        "</div>"
       ],
       "metadata": {},
       "output_type": "pyout",
       "prompt_number": 26,
       "text": [
        "                         _id                      created_at  favorite_count  \\\n",
        "0   535ede5648d49008b35b80d5  Mon Apr 28 23:01:31 +0000 2014               0   \n",
        "1   535ede5648d49008b35b80d6  Mon Apr 28 23:01:31 +0000 2014               0   \n",
        "2   535ede5648d49008b35b80d7  Mon Apr 28 23:01:31 +0000 2014               0   \n",
        "3   535ede5648d49008b35b80d8  Mon Apr 28 23:01:31 +0000 2014               0   \n",
        "4   535ede5648d49008b35b80d9  Mon Apr 28 23:01:31 +0000 2014               0   \n",
        "5   535ede5648d49008b35b80da  Mon Apr 28 23:01:31 +0000 2014               0   \n",
        "6   535ede5648d49008b35b80db  Mon Apr 28 23:01:31 +0000 2014               0   \n",
        "7   535ede5648d49008b35b80dc  Mon Apr 28 23:01:31 +0000 2014               0   \n",
        "8   535ede5648d49008b35b80dd  Mon Apr 28 23:01:31 +0000 2014               0   \n",
        "9   535ede5648d49008b35b80de  Mon Apr 28 23:01:31 +0000 2014               0   \n",
        "10  535ede5648d49008b35b80df  Mon Apr 28 23:01:31 +0000 2014               0   \n",
        "11  535ede5648d49008b35b80e0  Mon Apr 28 23:01:31 +0000 2014               0   \n",
        "12  535ede5648d49008b35b80e1  Mon Apr 28 23:01:31 +0000 2014               0   \n",
        "13  535ede5648d49008b35b80e2  Mon Apr 28 23:01:31 +0000 2014               0   \n",
        "14  535ede5648d49008b35b80e3  Mon Apr 28 23:01:31 +0000 2014               0   \n",
        "15  535ede5648d49008b35b80e4  Mon Apr 28 23:01:31 +0000 2014               0   \n",
        "16  535ede5648d49008b35b80e5  Mon Apr 28 23:01:31 +0000 2014               0   \n",
        "17  535ede5648d49008b35b80e6  Mon Apr 28 23:01:31 +0000 2014               0   \n",
        "18  535ede5648d49008b35b80e7  Mon Apr 28 23:01:31 +0000 2014               0   \n",
        "19  535ede5648d49008b35b80e8  Mon Apr 28 23:01:31 +0000 2014               0   \n",
        "20  535ede5648d49008b35b80e9  Mon Apr 28 23:01:31 +0000 2014               0   \n",
        "21  535ede5648d49008b35b80ea  Mon Apr 28 23:01:31 +0000 2014               0   \n",
        "22  535ede5648d49008b35b80eb  Mon Apr 28 23:01:31 +0000 2014               0   \n",
        "23  535ede5648d49008b35b80ec  Mon Apr 28 23:01:31 +0000 2014               0   \n",
        "24  535ede5648d49008b35b80ed  Mon Apr 28 23:01:31 +0000 2014               0   \n",
        "25  535ede5648d49008b35b80ee  Mon Apr 28 23:01:31 +0000 2014               0   \n",
        "26  535ede5648d49008b35b80ef  Mon Apr 28 23:01:31 +0000 2014               0   \n",
        "27  535ede5648d49008b35b80f0  Mon Apr 28 23:01:31 +0000 2014               0   \n",
        "28  535ede5648d49008b35b80f1  Mon Apr 28 23:01:31 +0000 2014               0   \n",
        "29  535ede5648d49008b35b80f2  Mon Apr 28 23:01:31 +0000 2014               0   \n",
        "30  535ede5648d49008b35b80f3  Mon Apr 28 23:01:31 +0000 2014               0   \n",
        "31  535ede5648d49008b35b80f4  Mon Apr 28 23:01:31 +0000 2014               0   \n",
        "32  535ede5648d49008b35b80f5  Mon Apr 28 23:01:31 +0000 2014               0   \n",
        "33  535ede5648d49008b35b80f6  Mon Apr 28 23:01:31 +0000 2014               0   \n",
        "34  535ede5648d49008b35b80f7  Mon Apr 28 23:01:31 +0000 2014               0   \n",
        "35  535ede5648d49008b35b80f8  Mon Apr 28 23:01:31 +0000 2014               0   \n",
        "36  535ede5648d49008b35b80f9  Mon Apr 28 23:01:31 +0000 2014               0   \n",
        "37  535ede5648d49008b35b80fa  Mon Apr 28 23:01:31 +0000 2014               0   \n",
        "38  535ede5648d49008b35b80fb  Mon Apr 28 23:01:31 +0000 2014               0   \n",
        "39  535ede5648d49008b35b80fc  Mon Apr 28 23:01:31 +0000 2014               0   \n",
        "40  535ede5648d49008b35b80fd  Mon Apr 28 23:01:31 +0000 2014               0   \n",
        "41  535ede5648d49008b35b80fe  Mon Apr 28 23:01:31 +0000 2014               0   \n",
        "42  535ede5648d49008b35b80ff  Mon Apr 28 23:01:31 +0000 2014               0   \n",
        "43  535ede5648d49008b35b8100  Mon Apr 28 23:01:31 +0000 2014               0   \n",
        "44  535ede5648d49008b35b8101  Mon Apr 28 23:01:31 +0000 2014               0   \n",
        "45  535ede5648d49008b35b8102  Mon Apr 28 23:01:31 +0000 2014               0   \n",
        "46  535ede5648d49008b35b8103  Mon Apr 28 23:01:31 +0000 2014               0   \n",
        "47  535ede5648d49008b35b8104  Mon Apr 28 23:01:31 +0000 2014               0   \n",
        "48  535ede5648d49008b35b8105  Mon Apr 28 23:01:31 +0000 2014               0   \n",
        "49  535ede5648d49008b35b8106  Mon Apr 28 23:01:31 +0000 2014               0   \n",
        "50  535ede5648d49008b35b8107  Mon Apr 28 23:01:31 +0000 2014               0   \n",
        "51  535ede5648d49008b35b8108  Mon Apr 28 23:01:31 +0000 2014               0   \n",
        "52  535ede5648d49008b35b8109  Mon Apr 28 23:01:31 +0000 2014               0   \n",
        "53  535ede5648d49008b35b810a  Mon Apr 28 23:01:31 +0000 2014               0   \n",
        "54  535ede5648d49008b35b810b  Mon Apr 28 23:01:31 +0000 2014               0   \n",
        "55  535ede5648d49008b35b810c  Mon Apr 28 23:01:31 +0000 2014               0   \n",
        "56  535ede5648d49008b35b810d  Mon Apr 28 23:01:31 +0000 2014               0   \n",
        "57  535ede5648d49008b35b810e  Mon Apr 28 23:01:31 +0000 2014               0   \n",
        "58  535ede5648d49008b35b810f  Mon Apr 28 23:01:31 +0000 2014               0   \n",
        "59  535ede5648d49008b35b8110  Mon Apr 28 23:01:31 +0000 2014               0   \n",
        "                         ...                             ...             ...   \n",
        "\n",
        "    retweet_count  \n",
        "0               0  \n",
        "1               0  \n",
        "2               0  \n",
        "3               0  \n",
        "4               0  \n",
        "5               0  \n",
        "6               0  \n",
        "7               0  \n",
        "8               0  \n",
        "9               0  \n",
        "10              0  \n",
        "11              2  \n",
        "12              0  \n",
        "13              0  \n",
        "14              0  \n",
        "15              0  \n",
        "16              0  \n",
        "17              0  \n",
        "18              0  \n",
        "19              0  \n",
        "20              0  \n",
        "21              1  \n",
        "22              0  \n",
        "23              0  \n",
        "24              0  \n",
        "25              0  \n",
        "26              0  \n",
        "27              0  \n",
        "28              0  \n",
        "29              0  \n",
        "30              0  \n",
        "31              0  \n",
        "32              0  \n",
        "33              0  \n",
        "34              0  \n",
        "35              0  \n",
        "36              0  \n",
        "37              0  \n",
        "38              0  \n",
        "39              1  \n",
        "40              0  \n",
        "41              0  \n",
        "42           5891  \n",
        "43           5891  \n",
        "44              1  \n",
        "45              0  \n",
        "46              0  \n",
        "47              0  \n",
        "48              0  \n",
        "49              0  \n",
        "50              0  \n",
        "51              0  \n",
        "52              0  \n",
        "53              1  \n",
        "54              0  \n",
        "55              1  \n",
        "56              0  \n",
        "57              0  \n",
        "58              0  \n",
        "59              0  \n",
        "              ...  \n",
        "\n",
        "[95 rows x 4 columns]"
       ]
      }
     ],
     "prompt_number": 26
    },
    {
     "cell_type": "code",
     "collapsed": false,
     "input": [
      "retweet_favorites = pd.DataFrame(list(db.tweets.find(fields=['created_at','retweet_count','favorite_count'])))\n",
      "retweet_favorites.head()"
     ],
     "language": "python",
     "metadata": {
      "slideshow": {
       "slide_type": "subslide"
      }
     },
     "outputs": [
      {
       "html": [
        "<div style=\"max-height:1000px;max-width:1500px;overflow:auto;\">\n",
        "<table border=\"1\" class=\"dataframe\">\n",
        "  <thead>\n",
        "    <tr style=\"text-align: right;\">\n",
        "      <th></th>\n",
        "      <th>_id</th>\n",
        "      <th>created_at</th>\n",
        "      <th>favorite_count</th>\n",
        "      <th>retweet_count</th>\n",
        "    </tr>\n",
        "  </thead>\n",
        "  <tbody>\n",
        "    <tr>\n",
        "      <th>0</th>\n",
        "      <td> 535ede5648d49008b35b80d5</td>\n",
        "      <td> Mon Apr 28 23:01:31 +0000 2014</td>\n",
        "      <td> 0</td>\n",
        "      <td> 0</td>\n",
        "    </tr>\n",
        "    <tr>\n",
        "      <th>1</th>\n",
        "      <td> 535ede5648d49008b35b80d6</td>\n",
        "      <td> Mon Apr 28 23:01:31 +0000 2014</td>\n",
        "      <td> 0</td>\n",
        "      <td> 0</td>\n",
        "    </tr>\n",
        "    <tr>\n",
        "      <th>2</th>\n",
        "      <td> 535ede5648d49008b35b80d7</td>\n",
        "      <td> Mon Apr 28 23:01:31 +0000 2014</td>\n",
        "      <td> 0</td>\n",
        "      <td> 0</td>\n",
        "    </tr>\n",
        "    <tr>\n",
        "      <th>3</th>\n",
        "      <td> 535ede5648d49008b35b80d8</td>\n",
        "      <td> Mon Apr 28 23:01:31 +0000 2014</td>\n",
        "      <td> 0</td>\n",
        "      <td> 0</td>\n",
        "    </tr>\n",
        "    <tr>\n",
        "      <th>4</th>\n",
        "      <td> 535ede5648d49008b35b80d9</td>\n",
        "      <td> Mon Apr 28 23:01:31 +0000 2014</td>\n",
        "      <td> 0</td>\n",
        "      <td> 0</td>\n",
        "    </tr>\n",
        "  </tbody>\n",
        "</table>\n",
        "<p>5 rows \u00d7 4 columns</p>\n",
        "</div>"
       ],
       "metadata": {},
       "output_type": "pyout",
       "prompt_number": 23,
       "text": [
        "                        _id                      created_at  favorite_count  \\\n",
        "0  535ede5648d49008b35b80d5  Mon Apr 28 23:01:31 +0000 2014               0   \n",
        "1  535ede5648d49008b35b80d6  Mon Apr 28 23:01:31 +0000 2014               0   \n",
        "2  535ede5648d49008b35b80d7  Mon Apr 28 23:01:31 +0000 2014               0   \n",
        "3  535ede5648d49008b35b80d8  Mon Apr 28 23:01:31 +0000 2014               0   \n",
        "4  535ede5648d49008b35b80d9  Mon Apr 28 23:01:31 +0000 2014               0   \n",
        "\n",
        "   retweet_count  \n",
        "0              0  \n",
        "1              0  \n",
        "2              0  \n",
        "3              0  \n",
        "4              0  \n",
        "\n",
        "[5 rows x 4 columns]"
       ]
      }
     ],
     "prompt_number": 23
    },
    {
     "cell_type": "markdown",
     "metadata": {
      "slideshow": {
       "slide_type": "slide"
      }
     },
     "source": [
      "`.describe()` is a useful method to get the gist of our data."
     ]
    },
    {
     "cell_type": "code",
     "collapsed": false,
     "input": [
      "retweet_favorites.describe()"
     ],
     "language": "python",
     "metadata": {
      "slideshow": {
       "slide_type": "-"
      }
     },
     "outputs": [
      {
       "html": [
        "<div style=\"max-height:1000px;max-width:1500px;overflow:auto;\">\n",
        "<table border=\"1\" class=\"dataframe\">\n",
        "  <thead>\n",
        "    <tr style=\"text-align: right;\">\n",
        "      <th></th>\n",
        "      <th>favorite_count</th>\n",
        "      <th>retweet_count</th>\n",
        "    </tr>\n",
        "  </thead>\n",
        "  <tbody>\n",
        "    <tr>\n",
        "      <th>count</th>\n",
        "      <td> 95</td>\n",
        "      <td>   95.000000</td>\n",
        "    </tr>\n",
        "    <tr>\n",
        "      <th>mean</th>\n",
        "      <td>  0</td>\n",
        "      <td>  186.115789</td>\n",
        "    </tr>\n",
        "    <tr>\n",
        "      <th>std</th>\n",
        "      <td>  0</td>\n",
        "      <td> 1035.646266</td>\n",
        "    </tr>\n",
        "    <tr>\n",
        "      <th>min</th>\n",
        "      <td>  0</td>\n",
        "      <td>    0.000000</td>\n",
        "    </tr>\n",
        "    <tr>\n",
        "      <th>25%</th>\n",
        "      <td>  0</td>\n",
        "      <td>    0.000000</td>\n",
        "    </tr>\n",
        "    <tr>\n",
        "      <th>50%</th>\n",
        "      <td>  0</td>\n",
        "      <td>    0.000000</td>\n",
        "    </tr>\n",
        "    <tr>\n",
        "      <th>75%</th>\n",
        "      <td>  0</td>\n",
        "      <td>    0.000000</td>\n",
        "    </tr>\n",
        "    <tr>\n",
        "      <th>max</th>\n",
        "      <td>  0</td>\n",
        "      <td> 5891.000000</td>\n",
        "    </tr>\n",
        "  </tbody>\n",
        "</table>\n",
        "<p>8 rows \u00d7 2 columns</p>\n",
        "</div>"
       ],
       "metadata": {},
       "output_type": "pyout",
       "prompt_number": 27,
       "text": [
        "       favorite_count  retweet_count\n",
        "count              95      95.000000\n",
        "mean                0     186.115789\n",
        "std                 0    1035.646266\n",
        "min                 0       0.000000\n",
        "25%                 0       0.000000\n",
        "50%                 0       0.000000\n",
        "75%                 0       0.000000\n",
        "max                 0    5891.000000\n",
        "\n",
        "[8 rows x 2 columns]"
       ]
      }
     ],
     "prompt_number": 27
    },
    {
     "cell_type": "markdown",
     "metadata": {
      "slideshow": {
       "slide_type": "subslide"
      }
     },
     "source": [
      "However, when applied to a DataFrame, it only describes numeric columns."
     ]
    },
    {
     "cell_type": "code",
     "collapsed": false,
     "input": [
      "retweet_favorites.dtypes"
     ],
     "language": "python",
     "metadata": {
      "slideshow": {
       "slide_type": "-"
      }
     },
     "outputs": [
      {
       "metadata": {},
       "output_type": "pyout",
       "prompt_number": 28,
       "text": [
        "_id               object\n",
        "created_at        object\n",
        "favorite_count     int64\n",
        "retweet_count      int64\n",
        "dtype: object"
       ]
      }
     ],
     "prompt_number": 28
    },
    {
     "cell_type": "markdown",
     "metadata": {
      "slideshow": {
       "slide_type": "subslide"
      }
     },
     "source": [
      "`.describe()` can be called on individual columns (i.e. `Series`), even if they are not numeric."
     ]
    },
    {
     "cell_type": "code",
     "collapsed": false,
     "input": [
      "retweet_favorites.created_at.describe()"
     ],
     "language": "python",
     "metadata": {
      "slideshow": {
       "slide_type": "-"
      }
     },
     "outputs": [
      {
       "metadata": {},
       "output_type": "pyout",
       "prompt_number": 29,
       "text": [
        "count                                 95\n",
        "unique                                 2\n",
        "top       Mon Apr 28 23:01:31 +0000 2014\n",
        "freq                                  91\n",
        "Name: created_at, dtype: object"
       ]
      }
     ],
     "prompt_number": 29
    },
    {
     "cell_type": "markdown",
     "metadata": {
      "slideshow": {
       "slide_type": "fragment"
      }
     },
     "source": [
      "However, in this case `created_at` is being treated as a string, which is not very helpful. We can fix that with `pandas.to_datetime`:"
     ]
    },
    {
     "cell_type": "code",
     "collapsed": false,
     "input": [
      "retweet_favorites.created_at.map(pd.to_datetime).describe()"
     ],
     "language": "python",
     "metadata": {
      "slideshow": {
       "slide_type": "fragment"
      }
     },
     "outputs": [
      {
       "metadata": {},
       "output_type": "pyout",
       "prompt_number": 30,
       "text": [
        "count                      95\n",
        "unique                      2\n",
        "first     2014-04-28 23:01:30\n",
        "last      2014-04-28 23:01:31\n",
        "top       2014-04-28 23:01:31\n",
        "freq                       91\n",
        "Name: created_at, dtype: object"
       ]
      }
     ],
     "prompt_number": 30
    },
    {
     "cell_type": "markdown",
     "metadata": {
      "slideshow": {
       "slide_type": "notes"
      }
     },
     "source": [
      "Not all that interesting though, since all of these tweets were collected within a couple seconds of each other."
     ]
    },
    {
     "cell_type": "markdown",
     "metadata": {
      "slideshow": {
       "slide_type": "slide"
      }
     },
     "source": [
      "Mongo allows us to access subfields directly."
     ]
    },
    {
     "cell_type": "code",
     "collapsed": false,
     "input": [
      "mentions_followers = list(db.tweets.find(fields=['entities.user_mentions', 'user.followers_count']))\n",
      "pd.DataFrame(mentions_followers).head()"
     ],
     "language": "python",
     "metadata": {
      "slideshow": {
       "slide_type": "-"
      }
     },
     "outputs": [
      {
       "html": [
        "<div style=\"max-height:1000px;max-width:1500px;overflow:auto;\">\n",
        "<table border=\"1\" class=\"dataframe\">\n",
        "  <thead>\n",
        "    <tr style=\"text-align: right;\">\n",
        "      <th></th>\n",
        "      <th>_id</th>\n",
        "      <th>entities</th>\n",
        "      <th>user</th>\n",
        "    </tr>\n",
        "  </thead>\n",
        "  <tbody>\n",
        "    <tr>\n",
        "      <th>0</th>\n",
        "      <td> 535ede5648d49008b35b80d5</td>\n",
        "      <td> {u'user_mentions': [{u'indices': [0, 12], u'sc...</td>\n",
        "      <td>  {u'followers_count': 1057}</td>\n",
        "    </tr>\n",
        "    <tr>\n",
        "      <th>1</th>\n",
        "      <td> 535f24e548d4900cccb41914</td>\n",
        "      <td>                            {u'user_mentions': []}</td>\n",
        "      <td>  {u'followers_count': 7134}</td>\n",
        "    </tr>\n",
        "    <tr>\n",
        "      <th>2</th>\n",
        "      <td> 535ede5648d49008b35b80d6</td>\n",
        "      <td> {u'user_mentions': [{u'indices': [15, 27], u's...</td>\n",
        "      <td>   {u'followers_count': 414}</td>\n",
        "    </tr>\n",
        "    <tr>\n",
        "      <th>3</th>\n",
        "      <td> 535ede5648d49008b35b80d7</td>\n",
        "      <td> {u'user_mentions': [{u'indices': [0, 12], u'sc...</td>\n",
        "      <td>  {u'followers_count': 5259}</td>\n",
        "    </tr>\n",
        "    <tr>\n",
        "      <th>4</th>\n",
        "      <td> 535ede5648d49008b35b80d8</td>\n",
        "      <td> {u'user_mentions': [{u'indices': [0, 12], u'sc...</td>\n",
        "      <td> {u'followers_count': 11109}</td>\n",
        "    </tr>\n",
        "  </tbody>\n",
        "</table>\n",
        "<p>5 rows \u00d7 3 columns</p>\n",
        "</div>"
       ],
       "metadata": {},
       "output_type": "pyout",
       "prompt_number": 119,
       "text": [
        "                        _id  \\\n",
        "0  535ede5648d49008b35b80d5   \n",
        "1  535f24e548d4900cccb41914   \n",
        "2  535ede5648d49008b35b80d6   \n",
        "3  535ede5648d49008b35b80d7   \n",
        "4  535ede5648d49008b35b80d8   \n",
        "\n",
        "                                            entities  \\\n",
        "0  {u'user_mentions': [{u'indices': [0, 12], u'sc...   \n",
        "1                             {u'user_mentions': []}   \n",
        "2  {u'user_mentions': [{u'indices': [15, 27], u's...   \n",
        "3  {u'user_mentions': [{u'indices': [0, 12], u'sc...   \n",
        "4  {u'user_mentions': [{u'indices': [0, 12], u'sc...   \n",
        "\n",
        "                          user  \n",
        "0   {u'followers_count': 1057}  \n",
        "1   {u'followers_count': 7134}  \n",
        "2    {u'followers_count': 414}  \n",
        "3   {u'followers_count': 5259}  \n",
        "4  {u'followers_count': 11109}  \n",
        "\n",
        "[5 rows x 3 columns]"
       ]
      }
     ],
     "prompt_number": 119
    },
    {
     "cell_type": "markdown",
     "metadata": {
      "slideshow": {
       "slide_type": "subslide"
      }
     },
     "source": [
      "Pandas doesn't know how to parse the sub-documents however, so we must tell it explicitly:"
     ]
    },
    {
     "cell_type": "code",
     "collapsed": false,
     "input": [
      "mentions_followers_df = pd.DataFrame({'user_mentions': len(tweet['entities']['user_mentions']), \n",
      "              'followers_count': tweet['user'].get('followers_count')} for tweet in mentions_followers)\n",
      "mentions_followers_df.head()"
     ],
     "language": "python",
     "metadata": {
      "slideshow": {
       "slide_type": "-"
      }
     },
     "outputs": [
      {
       "html": [
        "<div style=\"max-height:1000px;max-width:1500px;overflow:auto;\">\n",
        "<table border=\"1\" class=\"dataframe\">\n",
        "  <thead>\n",
        "    <tr style=\"text-align: right;\">\n",
        "      <th></th>\n",
        "      <th>followers_count</th>\n",
        "      <th>user_mentions</th>\n",
        "    </tr>\n",
        "  </thead>\n",
        "  <tbody>\n",
        "    <tr>\n",
        "      <th>0</th>\n",
        "      <td>  1057</td>\n",
        "      <td> 1</td>\n",
        "    </tr>\n",
        "    <tr>\n",
        "      <th>1</th>\n",
        "      <td>  7134</td>\n",
        "      <td> 0</td>\n",
        "    </tr>\n",
        "    <tr>\n",
        "      <th>2</th>\n",
        "      <td>   414</td>\n",
        "      <td> 1</td>\n",
        "    </tr>\n",
        "    <tr>\n",
        "      <th>3</th>\n",
        "      <td>  5259</td>\n",
        "      <td> 1</td>\n",
        "    </tr>\n",
        "    <tr>\n",
        "      <th>4</th>\n",
        "      <td> 11109</td>\n",
        "      <td> 1</td>\n",
        "    </tr>\n",
        "  </tbody>\n",
        "</table>\n",
        "<p>5 rows \u00d7 2 columns</p>\n",
        "</div>"
       ],
       "metadata": {},
       "output_type": "pyout",
       "prompt_number": 120,
       "text": [
        "   followers_count  user_mentions\n",
        "0             1057              1\n",
        "1             7134              0\n",
        "2              414              1\n",
        "3             5259              1\n",
        "4            11109              1\n",
        "\n",
        "[5 rows x 2 columns]"
       ]
      }
     ],
     "prompt_number": 120
    },
    {
     "cell_type": "markdown",
     "metadata": {
      "slideshow": {
       "slide_type": "slide"
      }
     },
     "source": [
      "Perhaps `user_mentions` and `followers_count` are correlated?"
     ]
    },
    {
     "cell_type": "code",
     "collapsed": false,
     "input": [
      "plt.scatter(mentions_followers_df.user_mentions, mentions_followers_df.followers_count)\n",
      "mentions_followers_df.corr()"
     ],
     "language": "python",
     "metadata": {
      "slideshow": {
       "slide_type": "-"
      }
     },
     "outputs": [
      {
       "html": [
        "<div style=\"max-height:1000px;max-width:1500px;overflow:auto;\">\n",
        "<table border=\"1\" class=\"dataframe\">\n",
        "  <thead>\n",
        "    <tr style=\"text-align: right;\">\n",
        "      <th></th>\n",
        "      <th>followers_count</th>\n",
        "      <th>user_mentions</th>\n",
        "    </tr>\n",
        "  </thead>\n",
        "  <tbody>\n",
        "    <tr>\n",
        "      <th>followers_count</th>\n",
        "      <td> 1.000000</td>\n",
        "      <td>-0.120294</td>\n",
        "    </tr>\n",
        "    <tr>\n",
        "      <th>user_mentions</th>\n",
        "      <td>-0.120294</td>\n",
        "      <td> 1.000000</td>\n",
        "    </tr>\n",
        "  </tbody>\n",
        "</table>\n",
        "<p>2 rows \u00d7 2 columns</p>\n",
        "</div>"
       ],
       "metadata": {},
       "output_type": "pyout",
       "prompt_number": 34,
       "text": [
        "                 followers_count  user_mentions\n",
        "followers_count         1.000000      -0.120294\n",
        "user_mentions          -0.120294       1.000000\n",
        "\n",
        "[2 rows x 2 columns]"
       ]
      }
     ],
     "prompt_number": 34
    },
    {
     "cell_type": "markdown",
     "metadata": {
      "slideshow": {
       "slide_type": "fragment"
      }
     },
     "source": [
      "Perhaps not."
     ]
    },
    {
     "cell_type": "markdown",
     "metadata": {
      "slideshow": {
       "slide_type": "slide"
      }
     },
     "source": [
      "Lab\n",
      "============\n",
      "1-2 Pairs\n",
      "------------"
     ]
    },
    {
     "cell_type": "markdown",
     "metadata": {
      "slideshow": {
       "slide_type": "notes"
      }
     },
     "source": [
      "Raise two fingers if you understand the material well.  \n",
      "Raise one finger if you understand this material OK.  \n",
      "Now, 1 find a 2 and sit next to them. While you work through this exercise, only 1's can type."
     ]
    },
    {
     "cell_type": "markdown",
     "metadata": {
      "slideshow": {
       "slide_type": "slide"
      }
     },
     "source": [
      "The [Yahoo! Where On Earth ID](https://developer.yahoo.com/geo/geoplanet/) of Canada is 23424775.  \n",
      "Use it to find Twitter trends in Canada and compare it to US trends. What's the difference between them?  \n",
      "\n",
      "- Insert the last 100 tweets for all Canada-only trends into a `canada` collection.  \n",
      "- Insert the last 100 tweets for all US-only trends into a `us` collections.  \n",
      "- For this (small and not very representative) sample, which users have the highest `follower_count`?"
     ]
    },
    {
     "cell_type": "code",
     "collapsed": false,
     "input": [
      "CA_WOE_ID = 23424775\n",
      "us_trends = twitter_api.trends.place(_id=US_WOE_ID)\n",
      "ca_trends = twitter_api.trends.place(_id=CA_WOE_ID)\n",
      "pprint(us_trends)"
     ],
     "language": "python",
     "metadata": {},
     "outputs": [
      {
       "output_type": "stream",
       "stream": "stdout",
       "text": [
        "[{u'as_of': u'2014-04-29T03:50:13Z',\n",
        "  u'created_at': u'2014-04-29T03:42:45Z',\n",
        "  u'locations': [{u'name': u'United States', u'woeid': 23424977}],\n",
        "  u'trends': [{u'name': u'#RuinAMovieQuote',\n",
        "               u'promoted_content': None,\n",
        "               u'query': u'%23RuinAMovieQuote',\n",
        "               u'url': u'http://twitter.com/search?q=%23RuinAMovieQuote'},\n",
        "              {u'name': u'#BuyOrdinaryOniTunes',\n",
        "               u'promoted_content': None,\n",
        "               u'query': u'%23BuyOrdinaryOniTunes',\n",
        "               u'url': u'http://twitter.com/search?q=%23BuyOrdinaryOniTunes'},\n",
        "              {u'name': u'#DWTSShirtOff',\n",
        "               u'promoted_content': None,\n",
        "               u'query': u'%23DWTSShirtOff',\n",
        "               u'url': u'http://twitter.com/search?q=%23DWTSShirtOff'},\n",
        "              {u'name': u'#LifeofTy',\n",
        "               u'promoted_content': None,\n",
        "               u'query': u'%23LifeofTy',\n",
        "               u'url': u'http://twitter.com/search?q=%23LifeofTy'},\n",
        "              {u'name': u'#bbwlareunion',\n",
        "               u'promoted_content': None,\n",
        "               u'query': u'%23bbwlareunion',\n",
        "               u'url': u'http://twitter.com/search?q=%23bbwlareunion'},\n",
        "              {u'name': u'Timone Pumba and Scar',\n",
        "               u'promoted_content': None,\n",
        "               u'query': u'%22Timone+Pumba+and+Scar%22',\n",
        "               u'url': u'http://twitter.com/search?q=%22Timone+Pumba+and+Scar%22'},\n",
        "              {u'name': u'LeBron vs the Bobcats',\n",
        "               u'promoted_content': None,\n",
        "               u'query': u'%22LeBron+vs+the+Bobcats%22',\n",
        "               u'url': u'http://twitter.com/search?q=%22LeBron+vs+the+Bobcats%22'},\n",
        "              {u'name': u'5TH CHEER ATHLETICS CHEETAHS',\n",
        "               u'promoted_content': None,\n",
        "               u'query': u'%225TH+CHEER+ATHLETICS+CHEETAHS%22',\n",
        "               u'url': u'http://twitter.com/search?q=%225TH+CHEER+ATHLETICS+CHEETAHS%22'},\n",
        "              {u'name': u'Patrick Roy',\n",
        "               u'promoted_content': None,\n",
        "               u'query': u'%22Patrick+Roy%22',\n",
        "               u'url': u'http://twitter.com/search?q=%22Patrick+Roy%22'},\n",
        "              {u'name': u'Dejuan Blair',\n",
        "               u'promoted_content': None,\n",
        "               u'query': u'%22Dejuan+Blair%22',\n",
        "               u'url': u'http://twitter.com/search?q=%22Dejuan+Blair%22'}]}]\n"
       ]
      }
     ],
     "prompt_number": 14
    },
    {
     "cell_type": "code",
     "collapsed": false,
     "input": [
      "pprint(ca_trends)"
     ],
     "language": "python",
     "metadata": {},
     "outputs": [
      {
       "output_type": "stream",
       "stream": "stdout",
       "text": [
        "[{u'as_of': u'2014-04-29T03:50:13Z',\n",
        "  u'created_at': u'2014-04-29T03:47:05Z',\n",
        "  u'locations': [{u'name': u'Canada', u'woeid': 23424775}],\n",
        "  u'trends': [{u'name': u'#BuyOrdinaryOniTunes',\n",
        "               u'promoted_content': None,\n",
        "               u'query': u'%23BuyOrdinaryOniTunes',\n",
        "               u'url': u'http://twitter.com/search?q=%23BuyOrdinaryOniTunes'},\n",
        "              {u'name': u'#RuinAMovieQuote',\n",
        "               u'promoted_content': None,\n",
        "               u'query': u'%23RuinAMovieQuote',\n",
        "               u'url': u'http://twitter.com/search?q=%23RuinAMovieQuote'},\n",
        "              {u'name': u'Peter Maher',\n",
        "               u'promoted_content': None,\n",
        "               u'query': u'%22Peter+Maher%22',\n",
        "               u'url': u'http://twitter.com/search?q=%22Peter+Maher%22'},\n",
        "              {u'name': u'#BuyProblemOniTunes',\n",
        "               u'promoted_content': None,\n",
        "               u'query': u'%23BuyProblemOniTunes',\n",
        "               u'url': u'http://twitter.com/search?q=%23BuyProblemOniTunes'},\n",
        "              {u'name': u'#DWTSShirtOff',\n",
        "               u'promoted_content': None,\n",
        "               u'query': u'%23DWTSShirtOff',\n",
        "               u'url': u'http://twitter.com/search?q=%23DWTSShirtOff'},\n",
        "              {u'name': u'Ric Flair',\n",
        "               u'promoted_content': None,\n",
        "               u'query': u'%22Ric+Flair%22',\n",
        "               u'url': u'http://twitter.com/search?q=%22Ric+Flair%22'},\n",
        "              {u'name': u'#WeWereBornForThis',\n",
        "               u'promoted_content': None,\n",
        "               u'query': u'%23WeWereBornForThis',\n",
        "               u'url': u'http://twitter.com/search?q=%23WeWereBornForThis'},\n",
        "              {u'name': u'Patrick Roy',\n",
        "               u'promoted_content': None,\n",
        "               u'query': u'%22Patrick+Roy%22',\n",
        "               u'url': u'http://twitter.com/search?q=%22Patrick+Roy%22'},\n",
        "              {u'name': u'Parise',\n",
        "               u'promoted_content': None,\n",
        "               u'query': u'Parise',\n",
        "               u'url': u'http://twitter.com/search?q=Parise'},\n",
        "              {u'name': u'Brie',\n",
        "               u'promoted_content': None,\n",
        "               u'query': u'Brie',\n",
        "               u'url': u'http://twitter.com/search?q=Brie'}]}]\n"
       ]
      }
     ],
     "prompt_number": 15
    },
    {
     "cell_type": "code",
     "collapsed": false,
     "input": [
      "can_trends_set = set([trend['name'] for trends in ca_trends\n",
      "    for trend in trends['trends']])\n",
      "us_trends_set = set([trend['name'] for trends in us_trends\n",
      "    for trend in trends['trends']])\n",
      "\n",
      "can_only = can_trends_set.difference(us_trends_set)\n",
      "us_only = us_trends_set.difference(can_trends_set)"
     ],
     "language": "python",
     "metadata": {},
     "outputs": [],
     "prompt_number": 18
    },
    {
     "cell_type": "code",
     "collapsed": false,
     "input": [
      "pprint(can_only)"
     ],
     "language": "python",
     "metadata": {},
     "outputs": [
      {
       "output_type": "stream",
       "stream": "stdout",
       "text": [
        "set([u'#BuyProblemOniTunes',\n",
        "     u'#WeWereBornForThis',\n",
        "     u'Brie',\n",
        "     u'Parise',\n",
        "     u'Peter Maher',\n",
        "     u'Ric Flair'])\n"
       ]
      }
     ],
     "prompt_number": 19
    },
    {
     "cell_type": "code",
     "collapsed": false,
     "input": [
      "pprint(us_only)"
     ],
     "language": "python",
     "metadata": {},
     "outputs": [
      {
       "output_type": "stream",
       "stream": "stdout",
       "text": [
        "set([u'#LifeofTy',\n",
        "     u'#bbwlareunion',\n",
        "     u'5TH CHEER ATHLETICS CHEETAHS',\n",
        "     u'Dejuan Blair',\n",
        "     u'LeBron vs the Bobcats',\n",
        "     u'Timone Pumba and Scar'])\n"
       ]
      }
     ],
     "prompt_number": 20
    },
    {
     "cell_type": "code",
     "collapsed": false,
     "input": [
      "can_only_list = list(can_only)\n",
      "\n",
      "count = 100\n",
      "\n",
      "for trend in can_only_list:\n",
      "    search_results = twitter_api.search.tweets(q=trend,count=count)\n",
      "    statuses = search_results['statuses']\n",
      "    db.can.insert(statuses)"
     ],
     "language": "python",
     "metadata": {},
     "outputs": [],
     "prompt_number": 37
    },
    {
     "cell_type": "code",
     "collapsed": false,
     "input": [
      "db.can.count()"
     ],
     "language": "python",
     "metadata": {},
     "outputs": [
      {
       "metadata": {},
       "output_type": "pyout",
       "prompt_number": 38,
       "text": [
        "1193"
       ]
      }
     ],
     "prompt_number": 38
    },
    {
     "cell_type": "code",
     "collapsed": false,
     "input": [
      "us_only_list = list(us_only)\n",
      "\n",
      "count = 100\n",
      "\n",
      "for trend in us_only_list:\n",
      "    search_results = twitter_api.search.tweets(q=trend,count=count)\n",
      "    statuses = search_results['statuses']\n",
      "    db.usonly.insert(statuses)"
     ],
     "language": "python",
     "metadata": {},
     "outputs": [],
     "prompt_number": 41
    },
    {
     "cell_type": "code",
     "collapsed": false,
     "input": [
      "db.collection_names()"
     ],
     "language": "python",
     "metadata": {},
     "outputs": [
      {
       "metadata": {},
       "output_type": "pyout",
       "prompt_number": 42,
       "text": [
        "[u'tweets', u'system.indexes', u'us', u'ca', u'can', u'usonly']"
       ]
      }
     ],
     "prompt_number": 42
    },
    {
     "cell_type": "code",
     "collapsed": false,
     "input": [
      "us_popular_tweets = db.usonly.find({'retweet_count': {\"$gte\": 3}})\n",
      "us_popular_tweets.count()"
     ],
     "language": "python",
     "metadata": {},
     "outputs": [
      {
       "metadata": {},
       "output_type": "pyout",
       "prompt_number": 44,
       "text": [
        "314"
       ]
      }
     ],
     "prompt_number": 44
    },
    {
     "cell_type": "code",
     "collapsed": false,
     "input": [
      "ca_popular_tweets = db.ca.find({'retweet_count': {\"$gte\": 3}})\n",
      "ca_popular_tweets.count()"
     ],
     "language": "python",
     "metadata": {},
     "outputs": [
      {
       "metadata": {},
       "output_type": "pyout",
       "prompt_number": 47,
       "text": [
        "31"
       ]
      }
     ],
     "prompt_number": 47
    },
    {
     "cell_type": "code",
     "collapsed": false,
     "input": [
      "us_mentions_followers = list(db.usonly.find(fields=['entities.user_mentions', 'user.followers_count']))\n",
      "pd.DataFrame(us_mentions_followers).head()"
     ],
     "language": "python",
     "metadata": {},
     "outputs": [
      {
       "html": [
        "<div style=\"max-height:1000px;max-width:1500px;overflow:auto;\">\n",
        "<table border=\"1\" class=\"dataframe\">\n",
        "  <thead>\n",
        "    <tr style=\"text-align: right;\">\n",
        "      <th></th>\n",
        "      <th>_id</th>\n",
        "      <th>entities</th>\n",
        "      <th>user</th>\n",
        "    </tr>\n",
        "  </thead>\n",
        "  <tbody>\n",
        "    <tr>\n",
        "      <th>0</th>\n",
        "      <td> 535f25df48d4900cccb41dce</td>\n",
        "      <td> {u'user_mentions': [{u'indices': [1, 12], u'sc...</td>\n",
        "      <td>  {u'followers_count': 986}</td>\n",
        "    </tr>\n",
        "    <tr>\n",
        "      <th>1</th>\n",
        "      <td> 535f25df48d4900cccb41dd7</td>\n",
        "      <td>                            {u'user_mentions': []}</td>\n",
        "      <td>  {u'followers_count': 756}</td>\n",
        "    </tr>\n",
        "    <tr>\n",
        "      <th>2</th>\n",
        "      <td> 535f25df48d4900cccb41dcb</td>\n",
        "      <td> {u'user_mentions': [{u'indices': [3, 12], u'sc...</td>\n",
        "      <td>  {u'followers_count': 195}</td>\n",
        "    </tr>\n",
        "    <tr>\n",
        "      <th>3</th>\n",
        "      <td> 535f25df48d4900cccb41dcc</td>\n",
        "      <td> {u'user_mentions': [{u'indices': [3, 17], u'sc...</td>\n",
        "      <td>  {u'followers_count': 332}</td>\n",
        "    </tr>\n",
        "    <tr>\n",
        "      <th>4</th>\n",
        "      <td> 535f25df48d4900cccb41dcd</td>\n",
        "      <td> {u'user_mentions': [{u'indices': [3, 16], u'sc...</td>\n",
        "      <td> {u'followers_count': 2563}</td>\n",
        "    </tr>\n",
        "  </tbody>\n",
        "</table>\n",
        "<p>5 rows \u00d7 3 columns</p>\n",
        "</div>"
       ],
       "metadata": {},
       "output_type": "pyout",
       "prompt_number": 48,
       "text": [
        "                        _id  \\\n",
        "0  535f25df48d4900cccb41dce   \n",
        "1  535f25df48d4900cccb41dd7   \n",
        "2  535f25df48d4900cccb41dcb   \n",
        "3  535f25df48d4900cccb41dcc   \n",
        "4  535f25df48d4900cccb41dcd   \n",
        "\n",
        "                                            entities  \\\n",
        "0  {u'user_mentions': [{u'indices': [1, 12], u'sc...   \n",
        "1                             {u'user_mentions': []}   \n",
        "2  {u'user_mentions': [{u'indices': [3, 12], u'sc...   \n",
        "3  {u'user_mentions': [{u'indices': [3, 17], u'sc...   \n",
        "4  {u'user_mentions': [{u'indices': [3, 16], u'sc...   \n",
        "\n",
        "                         user  \n",
        "0   {u'followers_count': 986}  \n",
        "1   {u'followers_count': 756}  \n",
        "2   {u'followers_count': 195}  \n",
        "3   {u'followers_count': 332}  \n",
        "4  {u'followers_count': 2563}  \n",
        "\n",
        "[5 rows x 3 columns]"
       ]
      }
     ],
     "prompt_number": 48
    },
    {
     "cell_type": "code",
     "collapsed": false,
     "input": [
      "ca_mentions_followers = list(db.can.find(fields=['entities.user_mentions', 'user.followers_count']))\n",
      "pd.DataFrame(ca_mentions_followers).head()"
     ],
     "language": "python",
     "metadata": {},
     "outputs": [
      {
       "html": [
        "<div style=\"max-height:1000px;max-width:1500px;overflow:auto;\">\n",
        "<table border=\"1\" class=\"dataframe\">\n",
        "  <thead>\n",
        "    <tr style=\"text-align: right;\">\n",
        "      <th></th>\n",
        "      <th>_id</th>\n",
        "      <th>entities</th>\n",
        "      <th>user</th>\n",
        "    </tr>\n",
        "  </thead>\n",
        "  <tbody>\n",
        "    <tr>\n",
        "      <th>0</th>\n",
        "      <td> 535f255648d4900cccb41924</td>\n",
        "      <td>                            {u'user_mentions': []}</td>\n",
        "      <td> {u'followers_count': 889}</td>\n",
        "    </tr>\n",
        "    <tr>\n",
        "      <th>1</th>\n",
        "      <td> 535f255648d4900cccb41995</td>\n",
        "      <td>                            {u'user_mentions': []}</td>\n",
        "      <td>   {u'followers_count': 7}</td>\n",
        "    </tr>\n",
        "    <tr>\n",
        "      <th>2</th>\n",
        "      <td> 535f255648d4900cccb41922</td>\n",
        "      <td> {u'user_mentions': [{u'indices': [3, 17], u'sc...</td>\n",
        "      <td> {u'followers_count': 299}</td>\n",
        "    </tr>\n",
        "    <tr>\n",
        "      <th>3</th>\n",
        "      <td> 535f255648d4900cccb41923</td>\n",
        "      <td> {u'user_mentions': [{u'indices': [3, 13], u'sc...</td>\n",
        "      <td>  {u'followers_count': 71}</td>\n",
        "    </tr>\n",
        "    <tr>\n",
        "      <th>4</th>\n",
        "      <td> 535f255648d4900cccb41925</td>\n",
        "      <td> {u'user_mentions': [{u'indices': [3, 12], u'sc...</td>\n",
        "      <td> {u'followers_count': 135}</td>\n",
        "    </tr>\n",
        "  </tbody>\n",
        "</table>\n",
        "<p>5 rows \u00d7 3 columns</p>\n",
        "</div>"
       ],
       "metadata": {},
       "output_type": "pyout",
       "prompt_number": 49,
       "text": [
        "                        _id  \\\n",
        "0  535f255648d4900cccb41924   \n",
        "1  535f255648d4900cccb41995   \n",
        "2  535f255648d4900cccb41922   \n",
        "3  535f255648d4900cccb41923   \n",
        "4  535f255648d4900cccb41925   \n",
        "\n",
        "                                            entities  \\\n",
        "0                             {u'user_mentions': []}   \n",
        "1                             {u'user_mentions': []}   \n",
        "2  {u'user_mentions': [{u'indices': [3, 17], u'sc...   \n",
        "3  {u'user_mentions': [{u'indices': [3, 13], u'sc...   \n",
        "4  {u'user_mentions': [{u'indices': [3, 12], u'sc...   \n",
        "\n",
        "                        user  \n",
        "0  {u'followers_count': 889}  \n",
        "1    {u'followers_count': 7}  \n",
        "2  {u'followers_count': 299}  \n",
        "3   {u'followers_count': 71}  \n",
        "4  {u'followers_count': 135}  \n",
        "\n",
        "[5 rows x 3 columns]"
       ]
      }
     ],
     "prompt_number": 49
    },
    {
     "cell_type": "markdown",
     "metadata": {
      "slideshow": {
       "slide_type": "fragment"
      }
     },
     "source": [
      "Individually:\n",
      "------------\n",
      "Find tweets where `'retweet_count': {\"$gt\": 0}`.  \n",
      "What is their `count`?  \n",
      "Is there anything about them that stands out as retweetable?"
     ]
    },
    {
     "cell_type": "code",
     "collapsed": false,
     "input": [
      "ca_popular_tweets = (db.can.find({'retweet_count': {\"$gte\": 1}}))\n",
      "us_popular_tweets = db.usonly.find({'retweet_count': {\"$gte\": 1}})\n",
      "ca_popular_tweets.count() + us_popular_tweets.count()"
     ],
     "language": "python",
     "metadata": {},
     "outputs": [
      {
       "metadata": {},
       "output_type": "pyout",
       "prompt_number": 95,
       "text": [
        "1115"
       ]
      }
     ],
     "prompt_number": 95
    },
    {
     "cell_type": "code",
     "collapsed": false,
     "input": [
      "ca_popular_tweets = list(db.can.find({'retweet_count': {\"$gte\": 1}}))\n",
      "pop_tweets = pd.DataFrame(ca_popular_tweets)\n",
      "pop_tweets= pop_tweets.append(list(db.usonly.find({'retweet_count': {\"$gte\": 1}})))\n",
      "pop_tweets.head()"
     ],
     "language": "python",
     "metadata": {},
     "outputs": [
      {
       "html": [
        "<div style=\"max-height:1000px;max-width:1500px;overflow:auto;\">\n",
        "<table border=\"1\" class=\"dataframe\">\n",
        "  <thead>\n",
        "    <tr style=\"text-align: right;\">\n",
        "      <th></th>\n",
        "      <th>_id</th>\n",
        "      <th>contributors</th>\n",
        "      <th>coordinates</th>\n",
        "      <th>created_at</th>\n",
        "      <th>entities</th>\n",
        "      <th>favorite_count</th>\n",
        "      <th>favorited</th>\n",
        "      <th>geo</th>\n",
        "      <th>id</th>\n",
        "      <th>id_str</th>\n",
        "      <th>in_reply_to_screen_name</th>\n",
        "      <th>in_reply_to_status_id</th>\n",
        "      <th>in_reply_to_status_id_str</th>\n",
        "      <th>in_reply_to_user_id</th>\n",
        "      <th>in_reply_to_user_id_str</th>\n",
        "      <th>lang</th>\n",
        "      <th>metadata</th>\n",
        "      <th>place</th>\n",
        "      <th>possibly_sensitive</th>\n",
        "      <th>retweet_count</th>\n",
        "      <th></th>\n",
        "    </tr>\n",
        "  </thead>\n",
        "  <tbody>\n",
        "    <tr>\n",
        "      <th>0</th>\n",
        "      <td> 535f255648d4900cccb41922</td>\n",
        "      <td> None</td>\n",
        "      <td> None</td>\n",
        "      <td> Tue Apr 29 04:06:19 +0000 2014</td>\n",
        "      <td> {u'symbols': [], u'user_mentions': [{u'indices...</td>\n",
        "      <td> 0</td>\n",
        "      <td> False</td>\n",
        "      <td> None</td>\n",
        "      <td> 460993454932099072</td>\n",
        "      <td> 460993454932099072</td>\n",
        "      <td> None</td>\n",
        "      <td>NaN</td>\n",
        "      <td> None</td>\n",
        "      <td>NaN</td>\n",
        "      <td> None</td>\n",
        "      <td> en</td>\n",
        "      <td> {u'iso_language_code': u'en', u'result_type': ...</td>\n",
        "      <td> None</td>\n",
        "      <td> NaN</td>\n",
        "      <td>  24</td>\n",
        "      <td>...</td>\n",
        "    </tr>\n",
        "    <tr>\n",
        "      <th>1</th>\n",
        "      <td> 535f255648d4900cccb41923</td>\n",
        "      <td> None</td>\n",
        "      <td> None</td>\n",
        "      <td> Tue Apr 29 04:06:15 +0000 2014</td>\n",
        "      <td> {u'symbols': [], u'user_mentions': [{u'indices...</td>\n",
        "      <td> 0</td>\n",
        "      <td> False</td>\n",
        "      <td> None</td>\n",
        "      <td> 460993441175175169</td>\n",
        "      <td> 460993441175175169</td>\n",
        "      <td> None</td>\n",
        "      <td>NaN</td>\n",
        "      <td> None</td>\n",
        "      <td>NaN</td>\n",
        "      <td> None</td>\n",
        "      <td> en</td>\n",
        "      <td> {u'iso_language_code': u'en', u'result_type': ...</td>\n",
        "      <td> None</td>\n",
        "      <td> NaN</td>\n",
        "      <td>  16</td>\n",
        "      <td>...</td>\n",
        "    </tr>\n",
        "    <tr>\n",
        "      <th>2</th>\n",
        "      <td> 535f255648d4900cccb41925</td>\n",
        "      <td> None</td>\n",
        "      <td> None</td>\n",
        "      <td> Tue Apr 29 04:06:10 +0000 2014</td>\n",
        "      <td> {u'symbols': [], u'user_mentions': [{u'indices...</td>\n",
        "      <td> 0</td>\n",
        "      <td> False</td>\n",
        "      <td> None</td>\n",
        "      <td> 460993417267253248</td>\n",
        "      <td> 460993417267253248</td>\n",
        "      <td> None</td>\n",
        "      <td>NaN</td>\n",
        "      <td> None</td>\n",
        "      <td>NaN</td>\n",
        "      <td> None</td>\n",
        "      <td> en</td>\n",
        "      <td> {u'iso_language_code': u'en', u'result_type': ...</td>\n",
        "      <td> None</td>\n",
        "      <td> NaN</td>\n",
        "      <td> 153</td>\n",
        "      <td>...</td>\n",
        "    </tr>\n",
        "    <tr>\n",
        "      <th>3</th>\n",
        "      <td> 535f255648d4900cccb41926</td>\n",
        "      <td> None</td>\n",
        "      <td> None</td>\n",
        "      <td> Tue Apr 29 04:06:02 +0000 2014</td>\n",
        "      <td> {u'symbols': [], u'user_mentions': [{u'indices...</td>\n",
        "      <td> 0</td>\n",
        "      <td> False</td>\n",
        "      <td> None</td>\n",
        "      <td> 460993384132272129</td>\n",
        "      <td> 460993384132272129</td>\n",
        "      <td> None</td>\n",
        "      <td>NaN</td>\n",
        "      <td> None</td>\n",
        "      <td>NaN</td>\n",
        "      <td> None</td>\n",
        "      <td> en</td>\n",
        "      <td> {u'iso_language_code': u'en', u'result_type': ...</td>\n",
        "      <td> None</td>\n",
        "      <td> NaN</td>\n",
        "      <td> 153</td>\n",
        "      <td>...</td>\n",
        "    </tr>\n",
        "    <tr>\n",
        "      <th>4</th>\n",
        "      <td> 535f255648d4900cccb41927</td>\n",
        "      <td> None</td>\n",
        "      <td> None</td>\n",
        "      <td> Tue Apr 29 04:05:54 +0000 2014</td>\n",
        "      <td> {u'symbols': [], u'user_mentions': [{u'indices...</td>\n",
        "      <td> 0</td>\n",
        "      <td> False</td>\n",
        "      <td> None</td>\n",
        "      <td> 460993350112673792</td>\n",
        "      <td> 460993350112673792</td>\n",
        "      <td> None</td>\n",
        "      <td>NaN</td>\n",
        "      <td> None</td>\n",
        "      <td>NaN</td>\n",
        "      <td> None</td>\n",
        "      <td> en</td>\n",
        "      <td> {u'iso_language_code': u'en', u'result_type': ...</td>\n",
        "      <td> None</td>\n",
        "      <td> NaN</td>\n",
        "      <td> 153</td>\n",
        "      <td>...</td>\n",
        "    </tr>\n",
        "  </tbody>\n",
        "</table>\n",
        "<p>5 rows \u00d7 26 columns</p>\n",
        "</div>"
       ],
       "metadata": {},
       "output_type": "pyout",
       "prompt_number": 123,
       "text": [
        "                        _id contributors coordinates  \\\n",
        "0  535f255648d4900cccb41922         None        None   \n",
        "1  535f255648d4900cccb41923         None        None   \n",
        "2  535f255648d4900cccb41925         None        None   \n",
        "3  535f255648d4900cccb41926         None        None   \n",
        "4  535f255648d4900cccb41927         None        None   \n",
        "\n",
        "                       created_at  \\\n",
        "0  Tue Apr 29 04:06:19 +0000 2014   \n",
        "1  Tue Apr 29 04:06:15 +0000 2014   \n",
        "2  Tue Apr 29 04:06:10 +0000 2014   \n",
        "3  Tue Apr 29 04:06:02 +0000 2014   \n",
        "4  Tue Apr 29 04:05:54 +0000 2014   \n",
        "\n",
        "                                            entities  favorite_count  \\\n",
        "0  {u'symbols': [], u'user_mentions': [{u'indices...               0   \n",
        "1  {u'symbols': [], u'user_mentions': [{u'indices...               0   \n",
        "2  {u'symbols': [], u'user_mentions': [{u'indices...               0   \n",
        "3  {u'symbols': [], u'user_mentions': [{u'indices...               0   \n",
        "4  {u'symbols': [], u'user_mentions': [{u'indices...               0   \n",
        "\n",
        "  favorited   geo                  id              id_str  \\\n",
        "0     False  None  460993454932099072  460993454932099072   \n",
        "1     False  None  460993441175175169  460993441175175169   \n",
        "2     False  None  460993417267253248  460993417267253248   \n",
        "3     False  None  460993384132272129  460993384132272129   \n",
        "4     False  None  460993350112673792  460993350112673792   \n",
        "\n",
        "  in_reply_to_screen_name  in_reply_to_status_id in_reply_to_status_id_str  \\\n",
        "0                    None                    NaN                      None   \n",
        "1                    None                    NaN                      None   \n",
        "2                    None                    NaN                      None   \n",
        "3                    None                    NaN                      None   \n",
        "4                    None                    NaN                      None   \n",
        "\n",
        "   in_reply_to_user_id in_reply_to_user_id_str lang  \\\n",
        "0                  NaN                    None   en   \n",
        "1                  NaN                    None   en   \n",
        "2                  NaN                    None   en   \n",
        "3                  NaN                    None   en   \n",
        "4                  NaN                    None   en   \n",
        "\n",
        "                                            metadata place possibly_sensitive  \\\n",
        "0  {u'iso_language_code': u'en', u'result_type': ...  None                NaN   \n",
        "1  {u'iso_language_code': u'en', u'result_type': ...  None                NaN   \n",
        "2  {u'iso_language_code': u'en', u'result_type': ...  None                NaN   \n",
        "3  {u'iso_language_code': u'en', u'result_type': ...  None                NaN   \n",
        "4  {u'iso_language_code': u'en', u'result_type': ...  None                NaN   \n",
        "\n",
        "   retweet_count      \n",
        "0             24 ...  \n",
        "1             16 ...  \n",
        "2            153 ...  \n",
        "3            153 ...  \n",
        "4            153 ...  \n",
        "\n",
        "[5 rows x 26 columns]"
       ]
      }
     ],
     "prompt_number": 123
    },
    {
     "cell_type": "code",
     "collapsed": false,
     "input": [
      "pop_tweets.count()"
     ],
     "language": "python",
     "metadata": {},
     "outputs": [
      {
       "metadata": {},
       "output_type": "pyout",
       "prompt_number": 124,
       "text": [
        "_id                          1115\n",
        "contributors                    0\n",
        "coordinates                     4\n",
        "created_at                   1115\n",
        "entities                     1115\n",
        "favorite_count               1115\n",
        "favorited                    1115\n",
        "geo                             4\n",
        "id                           1115\n",
        "id_str                       1115\n",
        "in_reply_to_screen_name        15\n",
        "in_reply_to_status_id          13\n",
        "in_reply_to_status_id_str      13\n",
        "in_reply_to_user_id            15\n",
        "in_reply_to_user_id_str        15\n",
        "lang                         1115\n",
        "metadata                     1115\n",
        "place                           4\n",
        "possibly_sensitive            365\n",
        "retweet_count                1115\n",
        "retweeted                    1115\n",
        "retweeted_status             1047\n",
        "source                       1115\n",
        "text                         1115\n",
        "truncated                    1115\n",
        "user                         1115\n",
        "dtype: int64"
       ]
      }
     ],
     "prompt_number": 124
    },
    {
     "cell_type": "code",
     "collapsed": false,
     "input": [
      "almost all the tweets are retweets"
     ],
     "language": "python",
     "metadata": {
      "slideshow": {
       "slide_type": "notes"
      }
     },
     "outputs": [
      {
       "ename": "SyntaxError",
       "evalue": "invalid syntax (<ipython-input-139-ef0712c3ae65>, line 1)",
       "output_type": "pyerr",
       "traceback": [
        "\u001b[0;36m  File \u001b[0;32m\"<ipython-input-139-ef0712c3ae65>\"\u001b[0;36m, line \u001b[0;32m1\u001b[0m\n\u001b[0;31m    almost all the retweets are retweets\u001b[0m\n\u001b[0m             ^\u001b[0m\n\u001b[0;31mSyntaxError\u001b[0m\u001b[0;31m:\u001b[0m invalid syntax\n"
       ]
      }
     ],
     "prompt_number": 139
    },
    {
     "cell_type": "code",
     "collapsed": false,
     "input": [],
     "language": "python",
     "metadata": {},
     "outputs": [],
     "prompt_number": 127
    },
    {
     "cell_type": "markdown",
     "metadata": {
      "slideshow": {
       "slide_type": "notes"
      }
     },
     "source": [
      "Further exercises:  \n",
      "\n",
      "* Twitter - _Mining-the-Social-Web-2nd-Edition_: [Chapter 1 - Mining Twitter](http://nbviewer.ipython.org/github/ptwobrussell/Mining-the-Social-Web-2nd-Edition/blob/master/ipynb/__Chapter%201%20-%20Mining%20Twitter%20%28Full-Text%20Sampler%29.ipynb)\n",
      "* Mongo - [Aggregation Framework](http://docs.mongodb.org/manual/aggregation/)"
     ]
    },
    {
     "cell_type": "markdown",
     "metadata": {
      "slideshow": {
       "slide_type": "slide"
      }
     },
     "source": [
      "Next week:\n",
      "==============\n",
      "Exploring Data\n",
      "--------------"
     ]
    }
   ],
   "metadata": {}
  }
 ]
}